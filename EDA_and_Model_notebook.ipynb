{
  "nbformat": 4,
  "nbformat_minor": 0,
  "metadata": {
    "colab": {
      "name": "Akshay_Rakate_assignment.ipynb",
      "provenance": [],
      "collapsed_sections": [
        "WJSE6lhrXiKW",
        "JHprDq7JEMde",
        "1Y0vJSutT5mJ",
        "oNAN2WdDHhbh",
        "K64a5Jda4ilh",
        "3IXH5pbbOdP2",
        "VwkRymHlKIU9",
        "_8HZ5SObHvfW",
        "aEqMAHN3ON4f",
        "LxHzsJJ2_MMs",
        "oTR_SH63HHRy",
        "GygD_P-6G7Ma",
        "vvvK0TaLSKwM",
        "NuLQvySpLijO",
        "by2z1e3qH-Xy",
        "wvb6i8vfWEpD",
        "dYJzqVZOIJla",
        "ck7j2Y1MLkcb",
        "VhB1eIlSQhoJ"
      ]
    },
    "kernelspec": {
      "name": "python3",
      "display_name": "Python 3"
    },
    "language_info": {
      "name": "python"
    }
  },
  "cells": [
    {
      "cell_type": "markdown",
      "source": [
        "Name: Akshay Rakate\n",
        "\n",
        "Project : Fraud Transaction Detection Model\n"
      ],
      "metadata": {
        "id": "d1O8yVSGCyTP"
      }
    },
    {
      "cell_type": "code",
      "execution_count": null,
      "metadata": {
        "id": "yUbKarDb-b_z"
      },
      "outputs": [],
      "source": [
        "#Import required libraries\n",
        "import pandas as pd\n",
        "import numpy as np\n",
        "import seaborn as sns\n",
        "import matplotlib.pyplot as plt\n",
        "%matplotlib inline\n",
        "\n",
        "from sklearn.preprocessing import OneHotEncoder\n",
        "from sklearn.cluster import DBSCAN\n",
        "from sklearn.preprocessing import StandardScaler\n",
        "from sklearn.model_selection import train_test_split\n",
        "from sklearn.metrics import classification_report,confusion_matrix,accuracy_score, roc_curve, auc,\\\n",
        "precision_score\n",
        "from sklearn.model_selection import GridSearchCV\n",
        "\n",
        "from sklearn.linear_model import LogisticRegression\n",
        "from sklearn.ensemble import RandomForestClassifier\n",
        "from xgboost.sklearn import XGBClassifier"
      ]
    },
    {
      "cell_type": "markdown",
      "source": [
        "# Data Summary"
      ],
      "metadata": {
        "id": "WJSE6lhrXiKW"
      }
    },
    {
      "cell_type": "code",
      "source": [
        "from google.colab import drive\n",
        "drive.mount('/content/drive')"
      ],
      "metadata": {
        "colab": {
          "base_uri": "https://localhost:8080/"
        },
        "id": "QKrNPn5_-zRT",
        "outputId": "aaf93041-c73b-41f1-ebcd-bab4e1bf06b8"
      },
      "execution_count": null,
      "outputs": [
        {
          "output_type": "stream",
          "name": "stdout",
          "text": [
            "Drive already mounted at /content/drive; to attempt to forcibly remount, call drive.mount(\"/content/drive\", force_remount=True).\n"
          ]
        }
      ]
    },
    {
      "cell_type": "code",
      "source": [
        "file = r'/content/drive/MyDrive/Colab Notebooks/Datasets/INSAID INTERNSHIP/Fraud.csv'\n",
        "df = pd.read_csv(file)\n",
        "\n",
        "# df = pd.read_csv(file,nrows=500000)"
      ],
      "metadata": {
        "id": "gZh77Si1-j54"
      },
      "execution_count": null,
      "outputs": []
    },
    {
      "cell_type": "code",
      "source": [
        "df.head()"
      ],
      "metadata": {
        "colab": {
          "base_uri": "https://localhost:8080/",
          "height": 206
        },
        "id": "nPrllAqJ-lIy",
        "outputId": "f562f052-94d7-4ac7-a56a-f48fddbca86e"
      },
      "execution_count": null,
      "outputs": [
        {
          "output_type": "execute_result",
          "data": {
            "text/plain": [
              "   step      type    amount     nameOrig  oldbalanceOrg  newbalanceOrig  \\\n",
              "0     1   PAYMENT   9839.64  C1231006815       170136.0       160296.36   \n",
              "1     1   PAYMENT   1864.28  C1666544295        21249.0        19384.72   \n",
              "2     1  TRANSFER    181.00  C1305486145          181.0            0.00   \n",
              "3     1  CASH_OUT    181.00   C840083671          181.0            0.00   \n",
              "4     1   PAYMENT  11668.14  C2048537720        41554.0        29885.86   \n",
              "\n",
              "      nameDest  oldbalanceDest  newbalanceDest  isFraud  isFlaggedFraud  \n",
              "0  M1979787155             0.0             0.0        0               0  \n",
              "1  M2044282225             0.0             0.0        0               0  \n",
              "2   C553264065             0.0             0.0        1               0  \n",
              "3    C38997010         21182.0             0.0        1               0  \n",
              "4  M1230701703             0.0             0.0        0               0  "
            ],
            "text/html": [
              "\n",
              "  <div id=\"df-8f900b51-a3c8-45c6-87cb-7f9fc52fdaea\">\n",
              "    <div class=\"colab-df-container\">\n",
              "      <div>\n",
              "<style scoped>\n",
              "    .dataframe tbody tr th:only-of-type {\n",
              "        vertical-align: middle;\n",
              "    }\n",
              "\n",
              "    .dataframe tbody tr th {\n",
              "        vertical-align: top;\n",
              "    }\n",
              "\n",
              "    .dataframe thead th {\n",
              "        text-align: right;\n",
              "    }\n",
              "</style>\n",
              "<table border=\"1\" class=\"dataframe\">\n",
              "  <thead>\n",
              "    <tr style=\"text-align: right;\">\n",
              "      <th></th>\n",
              "      <th>step</th>\n",
              "      <th>type</th>\n",
              "      <th>amount</th>\n",
              "      <th>nameOrig</th>\n",
              "      <th>oldbalanceOrg</th>\n",
              "      <th>newbalanceOrig</th>\n",
              "      <th>nameDest</th>\n",
              "      <th>oldbalanceDest</th>\n",
              "      <th>newbalanceDest</th>\n",
              "      <th>isFraud</th>\n",
              "      <th>isFlaggedFraud</th>\n",
              "    </tr>\n",
              "  </thead>\n",
              "  <tbody>\n",
              "    <tr>\n",
              "      <th>0</th>\n",
              "      <td>1</td>\n",
              "      <td>PAYMENT</td>\n",
              "      <td>9839.64</td>\n",
              "      <td>C1231006815</td>\n",
              "      <td>170136.0</td>\n",
              "      <td>160296.36</td>\n",
              "      <td>M1979787155</td>\n",
              "      <td>0.0</td>\n",
              "      <td>0.0</td>\n",
              "      <td>0</td>\n",
              "      <td>0</td>\n",
              "    </tr>\n",
              "    <tr>\n",
              "      <th>1</th>\n",
              "      <td>1</td>\n",
              "      <td>PAYMENT</td>\n",
              "      <td>1864.28</td>\n",
              "      <td>C1666544295</td>\n",
              "      <td>21249.0</td>\n",
              "      <td>19384.72</td>\n",
              "      <td>M2044282225</td>\n",
              "      <td>0.0</td>\n",
              "      <td>0.0</td>\n",
              "      <td>0</td>\n",
              "      <td>0</td>\n",
              "    </tr>\n",
              "    <tr>\n",
              "      <th>2</th>\n",
              "      <td>1</td>\n",
              "      <td>TRANSFER</td>\n",
              "      <td>181.00</td>\n",
              "      <td>C1305486145</td>\n",
              "      <td>181.0</td>\n",
              "      <td>0.00</td>\n",
              "      <td>C553264065</td>\n",
              "      <td>0.0</td>\n",
              "      <td>0.0</td>\n",
              "      <td>1</td>\n",
              "      <td>0</td>\n",
              "    </tr>\n",
              "    <tr>\n",
              "      <th>3</th>\n",
              "      <td>1</td>\n",
              "      <td>CASH_OUT</td>\n",
              "      <td>181.00</td>\n",
              "      <td>C840083671</td>\n",
              "      <td>181.0</td>\n",
              "      <td>0.00</td>\n",
              "      <td>C38997010</td>\n",
              "      <td>21182.0</td>\n",
              "      <td>0.0</td>\n",
              "      <td>1</td>\n",
              "      <td>0</td>\n",
              "    </tr>\n",
              "    <tr>\n",
              "      <th>4</th>\n",
              "      <td>1</td>\n",
              "      <td>PAYMENT</td>\n",
              "      <td>11668.14</td>\n",
              "      <td>C2048537720</td>\n",
              "      <td>41554.0</td>\n",
              "      <td>29885.86</td>\n",
              "      <td>M1230701703</td>\n",
              "      <td>0.0</td>\n",
              "      <td>0.0</td>\n",
              "      <td>0</td>\n",
              "      <td>0</td>\n",
              "    </tr>\n",
              "  </tbody>\n",
              "</table>\n",
              "</div>\n",
              "      <button class=\"colab-df-convert\" onclick=\"convertToInteractive('df-8f900b51-a3c8-45c6-87cb-7f9fc52fdaea')\"\n",
              "              title=\"Convert this dataframe to an interactive table.\"\n",
              "              style=\"display:none;\">\n",
              "        \n",
              "  <svg xmlns=\"http://www.w3.org/2000/svg\" height=\"24px\"viewBox=\"0 0 24 24\"\n",
              "       width=\"24px\">\n",
              "    <path d=\"M0 0h24v24H0V0z\" fill=\"none\"/>\n",
              "    <path d=\"M18.56 5.44l.94 2.06.94-2.06 2.06-.94-2.06-.94-.94-2.06-.94 2.06-2.06.94zm-11 1L8.5 8.5l.94-2.06 2.06-.94-2.06-.94L8.5 2.5l-.94 2.06-2.06.94zm10 10l.94 2.06.94-2.06 2.06-.94-2.06-.94-.94-2.06-.94 2.06-2.06.94z\"/><path d=\"M17.41 7.96l-1.37-1.37c-.4-.4-.92-.59-1.43-.59-.52 0-1.04.2-1.43.59L10.3 9.45l-7.72 7.72c-.78.78-.78 2.05 0 2.83L4 21.41c.39.39.9.59 1.41.59.51 0 1.02-.2 1.41-.59l7.78-7.78 2.81-2.81c.8-.78.8-2.07 0-2.86zM5.41 20L4 18.59l7.72-7.72 1.47 1.35L5.41 20z\"/>\n",
              "  </svg>\n",
              "      </button>\n",
              "      \n",
              "  <style>\n",
              "    .colab-df-container {\n",
              "      display:flex;\n",
              "      flex-wrap:wrap;\n",
              "      gap: 12px;\n",
              "    }\n",
              "\n",
              "    .colab-df-convert {\n",
              "      background-color: #E8F0FE;\n",
              "      border: none;\n",
              "      border-radius: 50%;\n",
              "      cursor: pointer;\n",
              "      display: none;\n",
              "      fill: #1967D2;\n",
              "      height: 32px;\n",
              "      padding: 0 0 0 0;\n",
              "      width: 32px;\n",
              "    }\n",
              "\n",
              "    .colab-df-convert:hover {\n",
              "      background-color: #E2EBFA;\n",
              "      box-shadow: 0px 1px 2px rgba(60, 64, 67, 0.3), 0px 1px 3px 1px rgba(60, 64, 67, 0.15);\n",
              "      fill: #174EA6;\n",
              "    }\n",
              "\n",
              "    [theme=dark] .colab-df-convert {\n",
              "      background-color: #3B4455;\n",
              "      fill: #D2E3FC;\n",
              "    }\n",
              "\n",
              "    [theme=dark] .colab-df-convert:hover {\n",
              "      background-color: #434B5C;\n",
              "      box-shadow: 0px 1px 3px 1px rgba(0, 0, 0, 0.15);\n",
              "      filter: drop-shadow(0px 1px 2px rgba(0, 0, 0, 0.3));\n",
              "      fill: #FFFFFF;\n",
              "    }\n",
              "  </style>\n",
              "\n",
              "      <script>\n",
              "        const buttonEl =\n",
              "          document.querySelector('#df-8f900b51-a3c8-45c6-87cb-7f9fc52fdaea button.colab-df-convert');\n",
              "        buttonEl.style.display =\n",
              "          google.colab.kernel.accessAllowed ? 'block' : 'none';\n",
              "\n",
              "        async function convertToInteractive(key) {\n",
              "          const element = document.querySelector('#df-8f900b51-a3c8-45c6-87cb-7f9fc52fdaea');\n",
              "          const dataTable =\n",
              "            await google.colab.kernel.invokeFunction('convertToInteractive',\n",
              "                                                     [key], {});\n",
              "          if (!dataTable) return;\n",
              "\n",
              "          const docLinkHtml = 'Like what you see? Visit the ' +\n",
              "            '<a target=\"_blank\" href=https://colab.research.google.com/notebooks/data_table.ipynb>data table notebook</a>'\n",
              "            + ' to learn more about interactive tables.';\n",
              "          element.innerHTML = '';\n",
              "          dataTable['output_type'] = 'display_data';\n",
              "          await google.colab.output.renderOutput(dataTable, element);\n",
              "          const docLink = document.createElement('div');\n",
              "          docLink.innerHTML = docLinkHtml;\n",
              "          element.appendChild(docLink);\n",
              "        }\n",
              "      </script>\n",
              "    </div>\n",
              "  </div>\n",
              "  "
            ]
          },
          "metadata": {},
          "execution_count": 7
        }
      ]
    },
    {
      "cell_type": "code",
      "source": [
        "#checing for null/missing values\n",
        "df.isnull().sum()"
      ],
      "metadata": {
        "colab": {
          "base_uri": "https://localhost:8080/"
        },
        "id": "0EaqZq9F-nEw",
        "outputId": "577924f6-914d-482b-c5fe-5d822cdeb9b1"
      },
      "execution_count": null,
      "outputs": [
        {
          "output_type": "execute_result",
          "data": {
            "text/plain": [
              "step              0\n",
              "type              0\n",
              "amount            0\n",
              "nameOrig          0\n",
              "oldbalanceOrg     0\n",
              "newbalanceOrig    0\n",
              "nameDest          0\n",
              "oldbalanceDest    0\n",
              "newbalanceDest    0\n",
              "isFraud           0\n",
              "isFlaggedFraud    0\n",
              "dtype: int64"
            ]
          },
          "metadata": {},
          "execution_count": 8
        }
      ]
    },
    {
      "cell_type": "code",
      "source": [
        "#Dataframe shape\n",
        "df.shape"
      ],
      "metadata": {
        "colab": {
          "base_uri": "https://localhost:8080/"
        },
        "id": "NDNtpPiG7h9n",
        "outputId": "d92aaf43-f8c7-4fa1-c464-4f40e3f2d715"
      },
      "execution_count": null,
      "outputs": [
        {
          "output_type": "execute_result",
          "data": {
            "text/plain": [
              "(6362620, 11)"
            ]
          },
          "metadata": {},
          "execution_count": 9
        }
      ]
    },
    {
      "cell_type": "markdown",
      "source": [
        "- **Observations**\n",
        "  - No Null/Missing values found.\n",
        "  - Datapoints are about 6 Million with 11 features."
      ],
      "metadata": {
        "id": "6sP3mxH5wiOE"
      }
    },
    {
      "cell_type": "markdown",
      "source": [
        "# **1. EDA**  "
      ],
      "metadata": {
        "id": "JHprDq7JEMde"
      }
    },
    {
      "cell_type": "markdown",
      "source": [
        "#### Correlation between Features"
      ],
      "metadata": {
        "id": "1Y0vJSutT5mJ"
      }
    },
    {
      "cell_type": "code",
      "source": [
        "plt.figure(figsize=(8,8))\n",
        "sns.heatmap(df.corr(), annot = True, fmt='.2g',cmap= 'YlGnBu')\n",
        "plt.title('Correlation Plot')\n",
        "plt.show()"
      ],
      "metadata": {
        "colab": {
          "base_uri": "https://localhost:8080/"
        },
        "id": "wAaNev16T8gT",
        "outputId": "258f856f-ea10-4ece-dd36-25f03f73f670"
      },
      "execution_count": null,
      "outputs": [
        {
          "output_type": "display_data",
          "data": {
            "text/plain": [
              "<Figure size 576x576 with 2 Axes>"
            ],
            "image/png": "[encoded data removed]"
          },
          "metadata": {
            "needs_background": "light"
          }
        }
      ]
    },
    {
      "cell_type": "markdown",
      "source": [
        " - **Observations:**\n",
        "  - oldbalanceOrig & newbalanceOrig are highly correlated.\n",
        "  - oldbalanceDest & newbalanceDest are highly correlated.\n",
        "  - For rest of all there is no signifiacant correlation.\n",
        "  - For target variable isFraud, no feature is highly correlated."
      ],
      "metadata": {
        "id": "fK2ZkE0D72Hr"
      }
    },
    {
      "cell_type": "markdown",
      "source": [
        "#### Feature: type"
      ],
      "metadata": {
        "id": "oNAN2WdDHhbh"
      }
    },
    {
      "cell_type": "code",
      "source": [
        "#Plotting counts of transactions as per type feature\n",
        "sns.countplot(data=df,x='type',hue='type',dodge=False)\n",
        "plt.title('Countplot:Types of Transactions')\n",
        "plt.show()"
      ],
      "metadata": {
        "colab": {
          "base_uri": "https://localhost:8080/"
        },
        "id": "kKfAFZFZHkxM",
        "outputId": "9c3bcc67-ce13-43b6-ee0b-eb3dac939dbe"
      },
      "execution_count": null,
      "outputs": [
        {
          "output_type": "display_data",
          "data": {
            "text/plain": [
              "<Figure size 432x288 with 1 Axes>"
            ],
            "image/png": "[encoded data removed]"
          },
          "metadata": {
            "needs_background": "light"
          }
        }
      ]
    },
    {
      "cell_type": "code",
      "source": [
        "#identifying which type of transactions are isFraud\n",
        "df['type'][df['isFraud']==1].value_counts()\n",
        "\n",
        "#plot\n",
        "sns.countplot(data=df[df['isFraud']==1],x='type',hue='isFraud',dodge=False)\n",
        "plt.title('Countplot: Fraud type transaction')\n",
        "plt.show()"
      ],
      "metadata": {
        "colab": {
          "base_uri": "https://localhost:8080/"
        },
        "id": "bYqf3nEnH1g7",
        "outputId": "c2a56482-29c5-4c9c-c176-ae9fa5550980"
      },
      "execution_count": null,
      "outputs": [
        {
          "output_type": "display_data",
          "data": {
            "text/plain": [
              "<Figure size 432x288 with 1 Axes>"
            ],
            "image/png": "[encoded data removed]"
          },
          "metadata": {
            "needs_background": "light"
          }
        }
      ]
    },
    {
      "cell_type": "code",
      "source": [
        "# Filtering  fraud and valid types of transactions\n",
        "fraud = df[df[\"isFraud\"] == 1]\n",
        "valid = df[df[\"isFraud\"] == 0]"
      ],
      "metadata": {
        "id": "JbxZQ9crCQe1"
      },
      "execution_count": null,
      "outputs": []
    },
    {
      "cell_type": "code",
      "source": [
        "#Checking types of transactions in fraud and valid transactions data\n",
        "\n",
        "#fraud data\n",
        "print('types of Transactions in Fraud transactions = ')\n",
        "print(fraud['type'].value_counts())\n",
        "print('='*50)\n",
        "\n",
        "#valid data\n",
        "print('types of Transactions in valid transactions = ')\n",
        "print(valid['type'].value_counts())"
      ],
      "metadata": {
        "colab": {
          "base_uri": "https://localhost:8080/"
        },
        "id": "sIGe3D5ICZHw",
        "outputId": "08a16f8d-473d-4d83-832e-9fbef654066f"
      },
      "execution_count": null,
      "outputs": [
        {
          "output_type": "stream",
          "name": "stdout",
          "text": [
            "types of Transactions in Fraud transactions = \n",
            "CASH_OUT    4116\n",
            "TRANSFER    4097\n",
            "Name: type, dtype: int64\n",
            "==================================================\n",
            "types of Transactions in valid transactions = \n",
            "CASH_OUT    2233384\n",
            "PAYMENT     2151495\n",
            "CASH_IN     1399284\n",
            "TRANSFER     528812\n",
            "DEBIT         41432\n",
            "Name: type, dtype: int64\n"
          ]
        }
      ]
    },
    {
      "cell_type": "markdown",
      "source": [
        "- **Observations**\n",
        "  - There are 4 types of transactions - CASH-IN, CASH-OUT, DEBIT, PAYMENT and TRANSFER.\n",
        "  - Among those only **CASH_OUT & TRANSFER are isFraud==1**.\n",
        "  "
      ],
      "metadata": {
        "id": "6kZU8sE6DRrA"
      }
    },
    {
      "cell_type": "markdown",
      "source": [
        "#### Feature: nameDest and nameOrig"
      ],
      "metadata": {
        "id": "K64a5Jda4ilh"
      }
    },
    {
      "cell_type": "markdown",
      "source": [
        "- As per dataset description provided the initials of nameOrig and nameDest denotes type of acccount. \n",
        "  - C : Customer\n",
        "  - M : Merchant"
      ],
      "metadata": {
        "id": "-HtQKVbv4x8B"
      }
    },
    {
      "cell_type": "code",
      "source": [
        "#Identifying account types between transaction happened\n",
        "\n",
        "print('nameOrig feature:')\n",
        "print('-'*50)\n",
        "print('No of transactions where type of acount is C:',\n",
        "      df['nameOrig'].str.contains('C').sum())\n",
        "\n",
        "print('No of transactions where type of acount is M:',\n",
        "      df['nameOrig'].str.contains('M').sum())\n",
        "\n",
        "print('='*50)\n",
        "\n",
        "print('nameDest feature:')\n",
        "print('-'*50)\n",
        "print('No of transactions where type of acount is C:',\n",
        "      df['nameDest'].str.contains('C').sum())\n",
        "print('No of transactions where type of acount is M:',\n",
        "      df['nameDest'].str.contains('M').sum())"
      ],
      "metadata": {
        "colab": {
          "base_uri": "https://localhost:8080/"
        },
        "id": "2FCjjobI4nD-",
        "outputId": "9f354680-ca4c-4a69-ab87-0b56c9c29574"
      },
      "execution_count": null,
      "outputs": [
        {
          "output_type": "stream",
          "name": "stdout",
          "text": [
            "nameOrig feature:\n",
            "--------------------------------------------------\n",
            "No of transactions where type of acount is C: 6362620\n",
            "No of transactions where type of acount is M: 0\n",
            "==================================================\n",
            "nameDest feature:\n",
            "--------------------------------------------------\n",
            "No of transactions where type of acount is C: 4211125\n",
            "No of transactions where type of acount is M: 2151495\n"
          ]
        }
      ]
    },
    {
      "cell_type": "markdown",
      "source": [
        "- Observation \n",
        "  - nameOrig feature doesnt have 'M' type account. All accounts are 'C'\n",
        "\n",
        "  - nameDest feature contains both 'C' and 'M' type acounts"
      ],
      "metadata": {
        "id": "BFWpaOuS624D"
      }
    },
    {
      "cell_type": "code",
      "source": [
        "# Create a feature \"type1\" which is a categorical with  \"CC\" (Customer to Customer), \"CM\" (Customer to Merchant), \n",
        "# \"MC\" (Merchant to Customer), \"MM\" (Merchant to Merchant).\n",
        "\n",
        "df['account_transactions'] = 0\n",
        "df.loc[df['nameOrig'].str.contains('C') & df['nameDest'].str.contains('M'),'account_transactions'] = 'CM'\n",
        "df.loc[df['nameOrig'].str.contains('C') & df['nameDest'].str.contains('C'),'account_transactions'] = 'CC'\n",
        "df.loc[df['nameOrig'].str.contains('M') & df['nameDest'].str.contains('C'),'account_transactions'] = 'MC'\n",
        "df.loc[df['nameOrig'].str.contains('M') & df['nameDest'].str.contains('M'),'account_transactions'] = 'MM'"
      ],
      "metadata": {
        "id": "zixGo2Qw9nF_"
      },
      "execution_count": null,
      "outputs": []
    },
    {
      "cell_type": "code",
      "source": [
        "print('Account_transcation counts as per CC CM MC MM = \\n',\n",
        "      df['account_transactions'].value_counts())\n",
        "\n",
        "print('-'*50)\n",
        "sns.countplot(x=df['account_transactions'])\n",
        "plt.title('Countplot of account_transactions')\n",
        "plt.show()"
      ],
      "metadata": {
        "colab": {
          "base_uri": "https://localhost:8080/"
        },
        "id": "gV5LAYAO-oI6",
        "outputId": "8257c011-aae4-47c6-ab67-4fd73660a77f"
      },
      "execution_count": null,
      "outputs": [
        {
          "output_type": "stream",
          "name": "stdout",
          "text": [
            "Account_transcation counts as per CC CM MC MM = \n",
            " CC    4211125\n",
            "CM    2151495\n",
            "Name: account_transactions, dtype: int64\n",
            "--------------------------------------------------\n"
          ]
        },
        {
          "output_type": "display_data",
          "data": {
            "text/plain": [
              "<Figure size 432x288 with 1 Axes>"
            ],
            "image/png": "[encoded data removed]"
          },
          "metadata": {
            "needs_background": "light"
          }
        }
      ]
    },
    {
      "cell_type": "markdown",
      "source": [
        "- Observations : \n",
        "  From above plot we can see there are only CC,CM types of transactions in the whole dataset"
      ],
      "metadata": {
        "id": "RPzBDi12_dLr"
      }
    },
    {
      "cell_type": "code",
      "source": [
        "#Account type transaction wrt Valid and Fraud transactions\n",
        "# Filtering  fraud and valid types of transactions\n",
        "fraud = df[df[\"isFraud\"] == 1]\n",
        "valid = df[df[\"isFraud\"] == 0]"
      ],
      "metadata": {
        "id": "XTPkPANh_V1i"
      },
      "execution_count": null,
      "outputs": []
    },
    {
      "cell_type": "code",
      "source": [
        "#Plots\n",
        "print('Account_transcation counts as per CC CM MC MM = \\n',\n",
        "      fraud['account_transactions'].value_counts())\n",
        "\n",
        "print('-'*50)\n",
        "sns.countplot(x=fraud['account_transactions'])\n",
        "plt.title('Countplot of fraud transactions')\n",
        "\n",
        "plt.show()"
      ],
      "metadata": {
        "colab": {
          "base_uri": "https://localhost:8080/"
        },
        "id": "ibJu8BLN_8A8",
        "outputId": "c9d35928-9479-48ae-dfb2-31cd8d3e76b4"
      },
      "execution_count": null,
      "outputs": [
        {
          "output_type": "stream",
          "name": "stdout",
          "text": [
            "Account_transcation counts as per CC CM MC MM = \n",
            " CC    8213\n",
            "Name: account_transactions, dtype: int64\n",
            "--------------------------------------------------\n"
          ]
        },
        {
          "output_type": "display_data",
          "data": {
            "text/plain": [
              "<Figure size 432x288 with 1 Axes>"
            ],
            "image/png": "[encoded data removed]"
          },
          "metadata": {
            "needs_background": "light"
          }
        }
      ]
    },
    {
      "cell_type": "code",
      "source": [
        "print('Account_transcation values as per CC CM MC MM = \\n',\n",
        "      valid['account_transactions'].value_counts())\n",
        "\n",
        "print('-'*50)\n",
        "sns.countplot(x=valid['account_transactions'])\n",
        "plt.title('Countplot of valid transactions')\n",
        "\n",
        "plt.show()"
      ],
      "metadata": {
        "colab": {
          "base_uri": "https://localhost:8080/"
        },
        "id": "QrO8GomTAHv1",
        "outputId": "28868a7d-fbf1-4035-c80c-dc19ccc66d6a"
      },
      "execution_count": null,
      "outputs": [
        {
          "output_type": "stream",
          "name": "stdout",
          "text": [
            "Account_transcation values as per CC CM MC MM = \n",
            " CC    4202912\n",
            "CM    2151495\n",
            "Name: account_transactions, dtype: int64\n",
            "--------------------------------------------------\n"
          ]
        },
        {
          "output_type": "display_data",
          "data": {
            "text/plain": [
              "<Figure size 432x288 with 1 Axes>"
            ],
            "image/png": "[encoded data removed]"
          },
          "metadata": {
            "needs_background": "light"
          }
        }
      ]
    },
    {
      "cell_type": "markdown",
      "source": [
        "- observations\n",
        "  - From above 2 graphs we can see **fraud transactions have only CC type** of account transactions. This is point to notices\n",
        "  \n",
        "  - From above 2 graphs we can see **valid transactions have CC,CM type of account** transactions."
      ],
      "metadata": {
        "id": "Q3nODFFNA-6n"
      }
    },
    {
      "cell_type": "markdown",
      "source": [
        "- As per dataset description given,isFraud transactions are the transactions made by the fraudulent agents inside the simulation. In this specific dataset the fraudulent behavior of the agents aims to profit by taking control or customers accounts and try to empty the funds by transferring to another account and then cashing out of the system.\n",
        "\n",
        "- This means fraud transactions are only of CASH_OUT & TRANSFER type.\n"
      ],
      "metadata": {
        "id": "oDJWyOzq06pp"
      }
    },
    {
      "cell_type": "code",
      "source": [
        "#Lets check if the recipient account of a fraudulent transfer was used as a sending account for cashing out \n",
        "fraud['nameDest'].isin(fraud['nameOrig']).any()"
      ],
      "metadata": {
        "colab": {
          "base_uri": "https://localhost:8080/"
        },
        "id": "Mjosl_3E0z3W",
        "outputId": "71a40c58-ab45-4037-88e4-db9050988f27"
      },
      "execution_count": null,
      "outputs": [
        {
          "output_type": "execute_result",
          "data": {
            "text/plain": [
              "False"
            ]
          },
          "metadata": {},
          "execution_count": 21
        }
      ]
    },
    {
      "cell_type": "markdown",
      "source": [
        "- This tells that for fraud transactions, the account that received funds during a transfer was not used at all for cashing out.\n",
        "\n",
        "- Hence there is no use of nameOrg and nameDest. Hence we can drop those features. "
      ],
      "metadata": {
        "id": "c-NySMN720lH"
      }
    },
    {
      "cell_type": "markdown",
      "source": [
        "#### Feature: Amount"
      ],
      "metadata": {
        "id": "3IXH5pbbOdP2"
      }
    },
    {
      "cell_type": "code",
      "source": [
        "#cheking statistics of fraud transactions\n",
        "print('Fraud transactions:')\n",
        "print('-'*50)\n",
        "\n",
        "print('Mean is = ',fraud['amount'].mean())\n",
        "print('Min amount = ',fraud['amount'].min())\n",
        "print('Max amount = ',fraud['amount'].max())"
      ],
      "metadata": {
        "colab": {
          "base_uri": "https://localhost:8080/"
        },
        "id": "1NrQfRTLOex2",
        "outputId": "1a912788-598c-4a62-b517-e724965e8e80"
      },
      "execution_count": null,
      "outputs": [
        {
          "output_type": "stream",
          "name": "stdout",
          "text": [
            "Fraud transactions:\n",
            "--------------------------------------------------\n",
            "Mean is =  1467967.299140387\n",
            "Min amount =  0.0\n",
            "Max amount =  10000000.0\n"
          ]
        }
      ]
    },
    {
      "cell_type": "code",
      "source": [
        "#cheking statistics of valid transactions\n",
        "\n",
        "print('Valid transactions:')\n",
        "print('-'*50)\n",
        "print('Mean is = ',valid['amount'].mean())\n",
        "print('Min amount = ',valid['amount'].min())\n",
        "print('Max amount = ',valid['amount'].max())"
      ],
      "metadata": {
        "colab": {
          "base_uri": "https://localhost:8080/"
        },
        "id": "rBpVwiQFOvJx",
        "outputId": "73437106-6fed-4b6c-868f-4a64635b82ee"
      },
      "execution_count": null,
      "outputs": [
        {
          "output_type": "stream",
          "name": "stdout",
          "text": [
            "Valid transactions:\n",
            "--------------------------------------------------\n",
            "Mean is =  178197.04172740763\n",
            "Min amount =  0.01\n",
            "Max amount =  92445516.64\n"
          ]
        }
      ]
    },
    {
      "cell_type": "code",
      "source": [
        "#checking percentile wise amount values\n",
        "\n",
        "for i in range(0,101,10):\n",
        "  print(f'{i}th percentile is = ',int(np.percentile(fraud['amount'],i)))"
      ],
      "metadata": {
        "colab": {
          "base_uri": "https://localhost:8080/"
        },
        "id": "N56sfgJZTt2P",
        "outputId": "435f3a03-3ac6-415f-a8ac-9a3628ee77d0"
      },
      "execution_count": null,
      "outputs": [
        {
          "output_type": "stream",
          "name": "stdout",
          "text": [
            "0th percentile is =  0\n",
            "10th percentile is =  37720\n",
            "20th percentile is =  94035\n",
            "30th percentile is =  166880\n",
            "40th percentile is =  276042\n",
            "50th percentile is =  441423\n",
            "60th percentile is =  712043\n",
            "70th percentile is =  1159831\n",
            "80th percentile is =  2059980\n",
            "90th percentile is =  4521723\n",
            "100th percentile is =  10000000\n"
          ]
        }
      ]
    },
    {
      "cell_type": "code",
      "source": [
        "#checking percentile wise amount values\n",
        "for i in range(0,101,10):\n",
        "  print(f'{i}th percentile is = ',int(np.percentile(valid['amount'],i)))"
      ],
      "metadata": {
        "colab": {
          "base_uri": "https://localhost:8080/"
        },
        "id": "IaYR7EYwT6KB",
        "outputId": "8d3e2b10-feb9-4e96-94e6-0bb4607cc0d5"
      },
      "execution_count": null,
      "outputs": [
        {
          "output_type": "stream",
          "name": "stdout",
          "text": [
            "0th percentile is =  0\n",
            "10th percentile is =  4496\n",
            "20th percentile is =  9851\n",
            "30th percentile is =  18056\n",
            "40th percentile is =  36260\n",
            "50th percentile is =  74684\n",
            "60th percentile is =  122331\n",
            "70th percentile is =  176490\n",
            "80th percentile is =  246148\n",
            "90th percentile is =  364373\n",
            "100th percentile is =  92445516\n"
          ]
        }
      ]
    },
    {
      "cell_type": "code",
      "source": [
        "#boxplot of fraud amount\n",
        "plt.figure(figsize=(10,5))\n",
        "plt.subplot(2, 1, 1)\n",
        "sns.boxplot(data=fraud,x='amount')\n",
        "plt.title('Fraud Transactions BoxPlot')\n",
        "\n",
        "plt.subplot(2, 1, 2)\n",
        "#boxplot of fraud amount\n",
        "sns.boxplot(data=valid,x='amount')\n",
        "plt.title('Valid Transactions BoxPlot')\n",
        "\n",
        "plt.tight_layout()\n",
        "plt.show()\n"
      ],
      "metadata": {
        "colab": {
          "base_uri": "https://localhost:8080/"
        },
        "id": "zSBKYaJBPdNo",
        "outputId": "dbaa6087-d216-4084-ebd5-b418574129cf"
      },
      "execution_count": null,
      "outputs": [
        {
          "output_type": "display_data",
          "data": {
            "text/plain": [
              "<Figure size 720x360 with 2 Axes>"
            ],
            "image/png": "[encoded data removed]"
          },
          "metadata": {
            "needs_background": "light"
          }
        }
      ]
    },
    {
      "cell_type": "markdown",
      "source": [
        "- **Observations**\n",
        "  - If we see percentiles data of Valid transations, 90% transaction amounts are below 0.36 million. \n",
        "  - And if  we see percentiles data of Valid transations, 90% transaction amounts are below 4.5 million.\n",
        "  - We can see boxplot comparison of Fraud and valid transaction. Fraud transactions amount is  very large in amount compared to Valid transactions."
      ],
      "metadata": {
        "id": "TxpShDtqPUYb"
      }
    },
    {
      "cell_type": "markdown",
      "source": [
        "#### Feature: isFraudFlagged"
      ],
      "metadata": {
        "id": "VwkRymHlKIU9"
      }
    },
    {
      "cell_type": "code",
      "source": [
        "#checking for isFraudFlagged condition\n",
        "print('No of isFlaggedFraud transactions = ',fraud['isFlaggedFraud'].isin([1]).sum())"
      ],
      "metadata": {
        "colab": {
          "base_uri": "https://localhost:8080/"
        },
        "id": "mdkpupKKKb3a",
        "outputId": "bef5f8b0-da1f-48b7-b213-aa515b147feb"
      },
      "execution_count": null,
      "outputs": [
        {
          "output_type": "stream",
          "name": "stdout",
          "text": [
            "No of isFlaggedFraud transactions =  16\n"
          ]
        }
      ]
    },
    {
      "cell_type": "code",
      "source": [
        "#These are 16 isFlaggedFraud transactions\n",
        "fraud[fraud['isFlaggedFraud']==1]"
      ],
      "metadata": {
        "colab": {
          "base_uri": "https://localhost:8080/"
        },
        "id": "Tgb5BU1KxgQj",
        "outputId": "0df3f80d-c8a7-4197-9e1f-7357723fb021"
      },
      "execution_count": null,
      "outputs": [
        {
          "output_type": "execute_result",
          "data": {
            "text/plain": [
              "         step      type       amount     nameOrig  oldbalanceOrg  \\\n",
              "2736446   212  TRANSFER   4953893.08   C728984460     4953893.08   \n",
              "3247297   250  TRANSFER   1343002.08  C1100582606     1343002.08   \n",
              "3760288   279  TRANSFER    536624.41  C1035541766      536624.41   \n",
              "5563713   387  TRANSFER   4892193.09   C908544136     4892193.09   \n",
              "5996407   425  TRANSFER  10000000.00   C689608084    19585040.37   \n",
              "5996409   425  TRANSFER   9585040.37   C452586515    19585040.37   \n",
              "6168499   554  TRANSFER   3576297.10   C193696150     3576297.10   \n",
              "6205439   586  TRANSFER    353874.22  C1684585475      353874.22   \n",
              "6266413   617  TRANSFER   2542664.27   C786455622     2542664.27   \n",
              "6281482   646  TRANSFER  10000000.00    C19004745    10399045.08   \n",
              "6281484   646  TRANSFER    399045.08   C724693370    10399045.08   \n",
              "6296014   671  TRANSFER   3441041.46   C917414431     3441041.46   \n",
              "6351225   702  TRANSFER   3171085.59  C1892216157     3171085.59   \n",
              "6362460   730  TRANSFER  10000000.00  C2140038573    17316255.05   \n",
              "6362462   730  TRANSFER   7316255.05  C1869569059    17316255.05   \n",
              "6362584   741  TRANSFER   5674547.89   C992223106     5674547.89   \n",
              "\n",
              "         newbalanceOrig     nameDest  oldbalanceDest  newbalanceDest  isFraud  \\\n",
              "2736446      4953893.08   C639921569             0.0             0.0        1   \n",
              "3247297      1343002.08  C1147517658             0.0             0.0        1   \n",
              "3760288       536624.41  C1100697970             0.0             0.0        1   \n",
              "5563713      4892193.09   C891140444             0.0             0.0        1   \n",
              "5996407     19585040.37  C1392803603             0.0             0.0        1   \n",
              "5996409     19585040.37  C1109166882             0.0             0.0        1   \n",
              "6168499      3576297.10   C484597480             0.0             0.0        1   \n",
              "6205439       353874.22  C1770418982             0.0             0.0        1   \n",
              "6266413      2542664.27   C661958277             0.0             0.0        1   \n",
              "6281482     10399045.08  C1806199534             0.0             0.0        1   \n",
              "6281484     10399045.08  C1909486199             0.0             0.0        1   \n",
              "6296014      3441041.46  C1082139865             0.0             0.0        1   \n",
              "6351225      3171085.59  C1308068787             0.0             0.0        1   \n",
              "6362460     17316255.05  C1395467927             0.0             0.0        1   \n",
              "6362462     17316255.05  C1861208726             0.0             0.0        1   \n",
              "6362584      5674547.89  C1366804249             0.0             0.0        1   \n",
              "\n",
              "         isFlaggedFraud account_transactions  \n",
              "2736446               1                   CC  \n",
              "3247297               1                   CC  \n",
              "3760288               1                   CC  \n",
              "5563713               1                   CC  \n",
              "5996407               1                   CC  \n",
              "5996409               1                   CC  \n",
              "6168499               1                   CC  \n",
              "6205439               1                   CC  \n",
              "6266413               1                   CC  \n",
              "6281482               1                   CC  \n",
              "6281484               1                   CC  \n",
              "6296014               1                   CC  \n",
              "6351225               1                   CC  \n",
              "6362460               1                   CC  \n",
              "6362462               1                   CC  \n",
              "6362584               1                   CC  "
            ],
            "text/html": [
              "\n",
              "  <div id=\"df-319a9041-d62b-4ad6-ab71-09091672d1ad\">\n",
              "    <div class=\"colab-df-container\">\n",
              "      <div>\n",
              "<style scoped>\n",
              "    .dataframe tbody tr th:only-of-type {\n",
              "        vertical-align: middle;\n",
              "    }\n",
              "\n",
              "    .dataframe tbody tr th {\n",
              "        vertical-align: top;\n",
              "    }\n",
              "\n",
              "    .dataframe thead th {\n",
              "        text-align: right;\n",
              "    }\n",
              "</style>\n",
              "<table border=\"1\" class=\"dataframe\">\n",
              "  <thead>\n",
              "    <tr style=\"text-align: right;\">\n",
              "      <th></th>\n",
              "      <th>step</th>\n",
              "      <th>type</th>\n",
              "      <th>amount</th>\n",
              "      <th>nameOrig</th>\n",
              "      <th>oldbalanceOrg</th>\n",
              "      <th>newbalanceOrig</th>\n",
              "      <th>nameDest</th>\n",
              "      <th>oldbalanceDest</th>\n",
              "      <th>newbalanceDest</th>\n",
              "      <th>isFraud</th>\n",
              "      <th>isFlaggedFraud</th>\n",
              "      <th>account_transactions</th>\n",
              "    </tr>\n",
              "  </thead>\n",
              "  <tbody>\n",
              "    <tr>\n",
              "      <th>2736446</th>\n",
              "      <td>212</td>\n",
              "      <td>TRANSFER</td>\n",
              "      <td>4953893.08</td>\n",
              "      <td>C728984460</td>\n",
              "      <td>4953893.08</td>\n",
              "      <td>4953893.08</td>\n",
              "      <td>C639921569</td>\n",
              "      <td>0.0</td>\n",
              "      <td>0.0</td>\n",
              "      <td>1</td>\n",
              "      <td>1</td>\n",
              "      <td>CC</td>\n",
              "    </tr>\n",
              "    <tr>\n",
              "      <th>3247297</th>\n",
              "      <td>250</td>\n",
              "      <td>TRANSFER</td>\n",
              "      <td>1343002.08</td>\n",
              "      <td>C1100582606</td>\n",
              "      <td>1343002.08</td>\n",
              "      <td>1343002.08</td>\n",
              "      <td>C1147517658</td>\n",
              "      <td>0.0</td>\n",
              "      <td>0.0</td>\n",
              "      <td>1</td>\n",
              "      <td>1</td>\n",
              "      <td>CC</td>\n",
              "    </tr>\n",
              "    <tr>\n",
              "      <th>3760288</th>\n",
              "      <td>279</td>\n",
              "      <td>TRANSFER</td>\n",
              "      <td>536624.41</td>\n",
              "      <td>C1035541766</td>\n",
              "      <td>536624.41</td>\n",
              "      <td>536624.41</td>\n",
              "      <td>C1100697970</td>\n",
              "      <td>0.0</td>\n",
              "      <td>0.0</td>\n",
              "      <td>1</td>\n",
              "      <td>1</td>\n",
              "      <td>CC</td>\n",
              "    </tr>\n",
              "    <tr>\n",
              "      <th>5563713</th>\n",
              "      <td>387</td>\n",
              "      <td>TRANSFER</td>\n",
              "      <td>4892193.09</td>\n",
              "      <td>C908544136</td>\n",
              "      <td>4892193.09</td>\n",
              "      <td>4892193.09</td>\n",
              "      <td>C891140444</td>\n",
              "      <td>0.0</td>\n",
              "      <td>0.0</td>\n",
              "      <td>1</td>\n",
              "      <td>1</td>\n",
              "      <td>CC</td>\n",
              "    </tr>\n",
              "    <tr>\n",
              "      <th>5996407</th>\n",
              "      <td>425</td>\n",
              "      <td>TRANSFER</td>\n",
              "      <td>10000000.00</td>\n",
              "      <td>C689608084</td>\n",
              "      <td>19585040.37</td>\n",
              "      <td>19585040.37</td>\n",
              "      <td>C1392803603</td>\n",
              "      <td>0.0</td>\n",
              "      <td>0.0</td>\n",
              "      <td>1</td>\n",
              "      <td>1</td>\n",
              "      <td>CC</td>\n",
              "    </tr>\n",
              "    <tr>\n",
              "      <th>5996409</th>\n",
              "      <td>425</td>\n",
              "      <td>TRANSFER</td>\n",
              "      <td>9585040.37</td>\n",
              "      <td>C452586515</td>\n",
              "      <td>19585040.37</td>\n",
              "      <td>19585040.37</td>\n",
              "      <td>C1109166882</td>\n",
              "      <td>0.0</td>\n",
              "      <td>0.0</td>\n",
              "      <td>1</td>\n",
              "      <td>1</td>\n",
              "      <td>CC</td>\n",
              "    </tr>\n",
              "    <tr>\n",
              "      <th>6168499</th>\n",
              "      <td>554</td>\n",
              "      <td>TRANSFER</td>\n",
              "      <td>3576297.10</td>\n",
              "      <td>C193696150</td>\n",
              "      <td>3576297.10</td>\n",
              "      <td>3576297.10</td>\n",
              "      <td>C484597480</td>\n",
              "      <td>0.0</td>\n",
              "      <td>0.0</td>\n",
              "      <td>1</td>\n",
              "      <td>1</td>\n",
              "      <td>CC</td>\n",
              "    </tr>\n",
              "    <tr>\n",
              "      <th>6205439</th>\n",
              "      <td>586</td>\n",
              "      <td>TRANSFER</td>\n",
              "      <td>353874.22</td>\n",
              "      <td>C1684585475</td>\n",
              "      <td>353874.22</td>\n",
              "      <td>353874.22</td>\n",
              "      <td>C1770418982</td>\n",
              "      <td>0.0</td>\n",
              "      <td>0.0</td>\n",
              "      <td>1</td>\n",
              "      <td>1</td>\n",
              "      <td>CC</td>\n",
              "    </tr>\n",
              "    <tr>\n",
              "      <th>6266413</th>\n",
              "      <td>617</td>\n",
              "      <td>TRANSFER</td>\n",
              "      <td>2542664.27</td>\n",
              "      <td>C786455622</td>\n",
              "      <td>2542664.27</td>\n",
              "      <td>2542664.27</td>\n",
              "      <td>C661958277</td>\n",
              "      <td>0.0</td>\n",
              "      <td>0.0</td>\n",
              "      <td>1</td>\n",
              "      <td>1</td>\n",
              "      <td>CC</td>\n",
              "    </tr>\n",
              "    <tr>\n",
              "      <th>6281482</th>\n",
              "      <td>646</td>\n",
              "      <td>TRANSFER</td>\n",
              "      <td>10000000.00</td>\n",
              "      <td>C19004745</td>\n",
              "      <td>10399045.08</td>\n",
              "      <td>10399045.08</td>\n",
              "      <td>C1806199534</td>\n",
              "      <td>0.0</td>\n",
              "      <td>0.0</td>\n",
              "      <td>1</td>\n",
              "      <td>1</td>\n",
              "      <td>CC</td>\n",
              "    </tr>\n",
              "    <tr>\n",
              "      <th>6281484</th>\n",
              "      <td>646</td>\n",
              "      <td>TRANSFER</td>\n",
              "      <td>399045.08</td>\n",
              "      <td>C724693370</td>\n",
              "      <td>10399045.08</td>\n",
              "      <td>10399045.08</td>\n",
              "      <td>C1909486199</td>\n",
              "      <td>0.0</td>\n",
              "      <td>0.0</td>\n",
              "      <td>1</td>\n",
              "      <td>1</td>\n",
              "      <td>CC</td>\n",
              "    </tr>\n",
              "    <tr>\n",
              "      <th>6296014</th>\n",
              "      <td>671</td>\n",
              "      <td>TRANSFER</td>\n",
              "      <td>3441041.46</td>\n",
              "      <td>C917414431</td>\n",
              "      <td>3441041.46</td>\n",
              "      <td>3441041.46</td>\n",
              "      <td>C1082139865</td>\n",
              "      <td>0.0</td>\n",
              "      <td>0.0</td>\n",
              "      <td>1</td>\n",
              "      <td>1</td>\n",
              "      <td>CC</td>\n",
              "    </tr>\n",
              "    <tr>\n",
              "      <th>6351225</th>\n",
              "      <td>702</td>\n",
              "      <td>TRANSFER</td>\n",
              "      <td>3171085.59</td>\n",
              "      <td>C1892216157</td>\n",
              "      <td>3171085.59</td>\n",
              "      <td>3171085.59</td>\n",
              "      <td>C1308068787</td>\n",
              "      <td>0.0</td>\n",
              "      <td>0.0</td>\n",
              "      <td>1</td>\n",
              "      <td>1</td>\n",
              "      <td>CC</td>\n",
              "    </tr>\n",
              "    <tr>\n",
              "      <th>6362460</th>\n",
              "      <td>730</td>\n",
              "      <td>TRANSFER</td>\n",
              "      <td>10000000.00</td>\n",
              "      <td>C2140038573</td>\n",
              "      <td>17316255.05</td>\n",
              "      <td>17316255.05</td>\n",
              "      <td>C1395467927</td>\n",
              "      <td>0.0</td>\n",
              "      <td>0.0</td>\n",
              "      <td>1</td>\n",
              "      <td>1</td>\n",
              "      <td>CC</td>\n",
              "    </tr>\n",
              "    <tr>\n",
              "      <th>6362462</th>\n",
              "      <td>730</td>\n",
              "      <td>TRANSFER</td>\n",
              "      <td>7316255.05</td>\n",
              "      <td>C1869569059</td>\n",
              "      <td>17316255.05</td>\n",
              "      <td>17316255.05</td>\n",
              "      <td>C1861208726</td>\n",
              "      <td>0.0</td>\n",
              "      <td>0.0</td>\n",
              "      <td>1</td>\n",
              "      <td>1</td>\n",
              "      <td>CC</td>\n",
              "    </tr>\n",
              "    <tr>\n",
              "      <th>6362584</th>\n",
              "      <td>741</td>\n",
              "      <td>TRANSFER</td>\n",
              "      <td>5674547.89</td>\n",
              "      <td>C992223106</td>\n",
              "      <td>5674547.89</td>\n",
              "      <td>5674547.89</td>\n",
              "      <td>C1366804249</td>\n",
              "      <td>0.0</td>\n",
              "      <td>0.0</td>\n",
              "      <td>1</td>\n",
              "      <td>1</td>\n",
              "      <td>CC</td>\n",
              "    </tr>\n",
              "  </tbody>\n",
              "</table>\n",
              "</div>\n",
              "      <button class=\"colab-df-convert\" onclick=\"convertToInteractive('df-319a9041-d62b-4ad6-ab71-09091672d1ad')\"\n",
              "              title=\"Convert this dataframe to an interactive table.\"\n",
              "              style=\"display:none;\">\n",
              "        \n",
              "  <svg xmlns=\"http://www.w3.org/2000/svg\" height=\"24px\"viewBox=\"0 0 24 24\"\n",
              "       width=\"24px\">\n",
              "    <path d=\"M0 0h24v24H0V0z\" fill=\"none\"/>\n",
              "    <path d=\"M18.56 5.44l.94 2.06.94-2.06 2.06-.94-2.06-.94-.94-2.06-.94 2.06-2.06.94zm-11 1L8.5 8.5l.94-2.06 2.06-.94-2.06-.94L8.5 2.5l-.94 2.06-2.06.94zm10 10l.94 2.06.94-2.06 2.06-.94-2.06-.94-.94-2.06-.94 2.06-2.06.94z\"/><path d=\"M17.41 7.96l-1.37-1.37c-.4-.4-.92-.59-1.43-.59-.52 0-1.04.2-1.43.59L10.3 9.45l-7.72 7.72c-.78.78-.78 2.05 0 2.83L4 21.41c.39.39.9.59 1.41.59.51 0 1.02-.2 1.41-.59l7.78-7.78 2.81-2.81c.8-.78.8-2.07 0-2.86zM5.41 20L4 18.59l7.72-7.72 1.47 1.35L5.41 20z\"/>\n",
              "  </svg>\n",
              "      </button>\n",
              "      \n",
              "  <style>\n",
              "    .colab-df-container {\n",
              "      display:flex;\n",
              "      flex-wrap:wrap;\n",
              "      gap: 12px;\n",
              "    }\n",
              "\n",
              "    .colab-df-convert {\n",
              "      background-color: #E8F0FE;\n",
              "      border: none;\n",
              "      border-radius: 50%;\n",
              "      cursor: pointer;\n",
              "      display: none;\n",
              "      fill: #1967D2;\n",
              "      height: 32px;\n",
              "      padding: 0 0 0 0;\n",
              "      width: 32px;\n",
              "    }\n",
              "\n",
              "    .colab-df-convert:hover {\n",
              "      background-color: #E2EBFA;\n",
              "      box-shadow: 0px 1px 2px rgba(60, 64, 67, 0.3), 0px 1px 3px 1px rgba(60, 64, 67, 0.15);\n",
              "      fill: #174EA6;\n",
              "    }\n",
              "\n",
              "    [theme=dark] .colab-df-convert {\n",
              "      background-color: #3B4455;\n",
              "      fill: #D2E3FC;\n",
              "    }\n",
              "\n",
              "    [theme=dark] .colab-df-convert:hover {\n",
              "      background-color: #434B5C;\n",
              "      box-shadow: 0px 1px 3px 1px rgba(0, 0, 0, 0.15);\n",
              "      filter: drop-shadow(0px 1px 2px rgba(0, 0, 0, 0.3));\n",
              "      fill: #FFFFFF;\n",
              "    }\n",
              "  </style>\n",
              "\n",
              "      <script>\n",
              "        const buttonEl =\n",
              "          document.querySelector('#df-319a9041-d62b-4ad6-ab71-09091672d1ad button.colab-df-convert');\n",
              "        buttonEl.style.display =\n",
              "          google.colab.kernel.accessAllowed ? 'block' : 'none';\n",
              "\n",
              "        async function convertToInteractive(key) {\n",
              "          const element = document.querySelector('#df-319a9041-d62b-4ad6-ab71-09091672d1ad');\n",
              "          const dataTable =\n",
              "            await google.colab.kernel.invokeFunction('convertToInteractive',\n",
              "                                                     [key], {});\n",
              "          if (!dataTable) return;\n",
              "\n",
              "          const docLinkHtml = 'Like what you see? Visit the ' +\n",
              "            '<a target=\"_blank\" href=https://colab.research.google.com/notebooks/data_table.ipynb>data table notebook</a>'\n",
              "            + ' to learn more about interactive tables.';\n",
              "          element.innerHTML = '';\n",
              "          dataTable['output_type'] = 'display_data';\n",
              "          await google.colab.output.renderOutput(dataTable, element);\n",
              "          const docLink = document.createElement('div');\n",
              "          docLink.innerHTML = docLinkHtml;\n",
              "          element.appendChild(docLink);\n",
              "        }\n",
              "      </script>\n",
              "    </div>\n",
              "  </div>\n",
              "  "
            ]
          },
          "metadata": {},
          "execution_count": 28
        }
      ]
    },
    {
      "cell_type": "code",
      "source": [
        "# If you see carefully, as per datset description provided it was said that isFlaggedFraud is used only when transfered amount is above 200,000 in a single transaction.\n",
        "\n",
        "# Identifying observations where the isFraud==1and the transaction type == transfer and the amount> 200,000\n",
        "print('observations where the isFraud == 1 and the transaction type == TRANSFER and the amount > 200,000:',\n",
        "      fraud[(fraud['amount'] > 200000) & (fraud['type']=='TRANSFER')]['isFlaggedFraud'].count())"
      ],
      "metadata": {
        "colab": {
          "base_uri": "https://localhost:8080/"
        },
        "id": "tm3CgAsPFdqF",
        "outputId": "9ec6d73d-4630-4b1f-94ac-b17eaf162d88"
      },
      "execution_count": null,
      "outputs": [
        {
          "output_type": "stream",
          "name": "stdout",
          "text": [
            "observations where the isFraud == 1 and the transaction type == TRANSFER and the amount > 200,000: 2740\n"
          ]
        }
      ]
    },
    {
      "cell_type": "markdown",
      "source": [
        "- Observations\n",
        "  - No of isFlaggedFraud transactions =  16\n",
        "  - the amount they transfered isn't actually transfered from nameorg to nameDest because their is no chnage in (oldbalanceDest,newbalanceDest).\n",
        "  - If you see carefully, as per datset description provided it was said that isFlaggedFraud is used only when transfered amount is above 200,000 in a single transaction. But if we see there is 2740 transactions where **isFlaggedfraud is FAILED to mark**.\n",
        "  - Hence we decide to **DROP this isFlaggedfraud Feature**."
      ],
      "metadata": {
        "id": "BV7ZzsrYEq7a"
      }
    },
    {
      "cell_type": "markdown",
      "source": [
        "#### Feature: Step"
      ],
      "metadata": {
        "id": "_8HZ5SObHvfW"
      }
    },
    {
      "cell_type": "markdown",
      "source": [
        "- step - maps a unit of time in the real world. In this case 1 step is 1 hour of time. Total steps 744 (30 days simulation)."
      ],
      "metadata": {
        "id": "vKI0uNsAH03P"
      }
    },
    {
      "cell_type": "code",
      "source": [
        "#checking valid transactions wrt to step\n",
        "sns.histplot(data=valid,x='step',bins=80,color='g')\n",
        "plt.xlabel(\"1 hour time step\")\n",
        "plt.ylabel(\"Number of transactions\")\n",
        "plt.title(\"Time steps\")\n",
        "\n",
        "plt.tight_layout()\n",
        "plt.show()"
      ],
      "metadata": {
        "colab": {
          "base_uri": "https://localhost:8080/"
        },
        "id": "QGaglj89HyY2",
        "outputId": "438f9226-09f3-4c4b-c5ac-8a6b460b79d4"
      },
      "execution_count": null,
      "outputs": [
        {
          "output_type": "display_data",
          "data": {
            "text/plain": [
              "<Figure size 432x288 with 1 Axes>"
            ],
            "image/png": "[encoded data removed]"
          },
          "metadata": {
            "needs_background": "light"
          }
        }
      ]
    },
    {
      "cell_type": "code",
      "source": [
        "#checking fraud transactions wrt to step\n",
        "sns.histplot(data=fraud,x='step',bins=80,color='b')\n",
        "plt.xlabel(\"1 hour time step\")\n",
        "plt.ylabel(\"Number of transactions\")\n",
        "plt.title(\"Time steps\")\n",
        "\n",
        "plt.tight_layout()\n",
        "plt.show()"
      ],
      "metadata": {
        "colab": {
          "base_uri": "https://localhost:8080/"
        },
        "id": "9Jj6ik9KJY1z",
        "outputId": "bcad2f7d-9305-45c7-ca6c-f5abe3a95e6d"
      },
      "execution_count": null,
      "outputs": [
        {
          "output_type": "display_data",
          "data": {
            "text/plain": [
              "<Figure size 432x288 with 1 Axes>"
            ],
            "image/png": "[encoded data removed]"
          },
          "metadata": {
            "needs_background": "light"
          }
        }
      ]
    },
    {
      "cell_type": "markdown",
      "source": [
        "- **Observations**\n",
        "  - A large proportion of valid transactions occur between around the (10th and 50th) and the (120th and 400th) time-steps.\n",
        " - The frequency at which fraudulent transactions occur does not seem to change much over time."
      ],
      "metadata": {
        "id": "OgBdVs5rNCsf"
      }
    },
    {
      "cell_type": "code",
      "source": [
        "#checking valid and fraud transaction wrt days of 30 days\n",
        "plt.subplot(1, 2, 1)\n",
        "sns.histplot(data=fraud['step']%7,bins=7,color='b')\n",
        "plt.title('Fraud transactions by Day')\n",
        "plt.xlabel('Day of the Week')\n",
        "plt.ylabel(\"Number of transactions\")\n",
        "\n",
        "plt.subplot(1,2,2)\n",
        "\n",
        "sns.histplot(data=valid['step']%7,bins=7,color='g')\n",
        "plt.title('Valid transactions by Day')\n",
        "# plt.xlim(0,8)\n",
        "plt.xlabel('Day of the Week')\n",
        "plt.ylabel(\"Number of transactions\")\n",
        "\n",
        "plt.tight_layout()\n",
        "plt.show()"
      ],
      "metadata": {
        "colab": {
          "base_uri": "https://localhost:8080/"
        },
        "id": "0gGHtbrrJfSm",
        "outputId": "fee123d6-d9cf-4e53-ee6c-e2c38a5767a2"
      },
      "execution_count": null,
      "outputs": [
        {
          "output_type": "display_data",
          "data": {
            "text/plain": [
              "<Figure size 432x288 with 2 Axes>"
            ],
            "image/png": "[encoded data removed]"
          },
          "metadata": {
            "needs_background": "light"
          }
        }
      ]
    },
    {
      "cell_type": "markdown",
      "source": [
        "- Observations\n",
        "  - Fraud and valid transactions occur daiy.There is no specific pattern observed."
      ],
      "metadata": {
        "id": "8zs_-dFVNXkc"
      }
    },
    {
      "cell_type": "code",
      "source": [
        "#checking valid and fraud transaction wrt days of 30 days\n",
        "plt.subplot(1, 2, 1)\n",
        "sns.histplot(data=fraud['step']%24,bins=24,color='b')\n",
        "plt.title('Fraud transactions by Hours')\n",
        "# plt.xlim(0,25)\n",
        "plt.xlabel('Hour of Day')\n",
        "plt.ylabel(\"Number of transactions\")\n",
        "\n",
        "plt.subplot(1,2,2)\n",
        "\n",
        "sns.histplot(data=valid['step']%24,bins=24,color='g')\n",
        "plt.title('Valid transactions by Hours')\n",
        "# plt.xlim(0,25)\n",
        "plt.xlabel('Hour of Day')\n",
        "plt.ylabel(\"Number of transactions\")\n",
        "\n",
        "plt.tight_layout()\n",
        "plt.show()"
      ],
      "metadata": {
        "colab": {
          "base_uri": "https://localhost:8080/"
        },
        "id": "c_AOKD51LSj_",
        "outputId": "f6f22bae-8b7b-497a-9644-a68269136901"
      },
      "execution_count": null,
      "outputs": [
        {
          "output_type": "display_data",
          "data": {
            "text/plain": [
              "<Figure size 432x288 with 2 Axes>"
            ],
            "image/png": "[encoded data removed]"
          },
          "metadata": {
            "needs_background": "light"
          }
        }
      ]
    },
    {
      "cell_type": "markdown",
      "source": [
        "- **Observation**\n",
        "  - Valid transactions occur only after 10:00 of the day till 22:00.\n",
        "  - Fraud transactions occur at any time of the day\n",
        "  - This Hours_of_data can be an important reason to differentiate between fraud and valid transactions. Hence We will include the new feature 'Hour of day' as to denote what hour of day is it."
      ],
      "metadata": {
        "id": "kspHlxeyM1jn"
      }
    },
    {
      "cell_type": "markdown",
      "source": [
        "#### Feature: Balance before and after transaction (errorbalance)"
      ],
      "metadata": {
        "id": "aEqMAHN3ON4f"
      }
    },
    {
      "cell_type": "code",
      "source": [
        "#if type of transaction is {CASH_OUT,DEBIT,TRANSFER} then newbalanceOrig = oldbalanceOrig - amount\n",
        "# if type of transaction is {CASH_IN} then newbalanceOrig = oldbalanceOrig + amount\n",
        "\n",
        "#Make copy of column 'type' and repalcing CASH_IN as 1 and rest all with -1.\n",
        "df['type_sign'] = df['type']\n",
        "df['type_sign'] = df['type_sign'].apply(lambda x: 1 if x =='CASH_IN' else -1)\n",
        "\n",
        "#Multiplying 'type_sign' and 'amount' columns to get actual representation of type of transaction\n",
        "df['amount_sign'] = df['type_sign'] * df['amount']\n",
        "df.head()"
      ],
      "metadata": {
        "colab": {
          "base_uri": "https://localhost:8080/"
        },
        "id": "7Zv3fEyoap12",
        "outputId": "b5d93425-611c-4bc2-f251-a08e3f54ee28"
      },
      "execution_count": null,
      "outputs": [
        {
          "output_type": "execute_result",
          "data": {
            "text/plain": [
              "   step      type    amount     nameOrig  oldbalanceOrg  newbalanceOrig  \\\n",
              "0     1   PAYMENT   9839.64  C1231006815       170136.0       160296.36   \n",
              "1     1   PAYMENT   1864.28  C1666544295        21249.0        19384.72   \n",
              "2     1  TRANSFER    181.00  C1305486145          181.0            0.00   \n",
              "3     1  CASH_OUT    181.00   C840083671          181.0            0.00   \n",
              "4     1   PAYMENT  11668.14  C2048537720        41554.0        29885.86   \n",
              "\n",
              "      nameDest  oldbalanceDest  newbalanceDest  isFraud  isFlaggedFraud  \\\n",
              "0  M1979787155             0.0             0.0        0               0   \n",
              "1  M2044282225             0.0             0.0        0               0   \n",
              "2   C553264065             0.0             0.0        1               0   \n",
              "3    C38997010         21182.0             0.0        1               0   \n",
              "4  M1230701703             0.0             0.0        0               0   \n",
              "\n",
              "  account_transactions  type_sign  amount_sign  \n",
              "0                   CM         -1     -9839.64  \n",
              "1                   CM         -1     -1864.28  \n",
              "2                   CC         -1      -181.00  \n",
              "3                   CC         -1      -181.00  \n",
              "4                   CM         -1    -11668.14  "
            ],
            "text/html": [
              "\n",
              "  <div id=\"df-dc71e408-f4ae-4f17-9cd6-858f7ce0ebfa\">\n",
              "    <div class=\"colab-df-container\">\n",
              "      <div>\n",
              "<style scoped>\n",
              "    .dataframe tbody tr th:only-of-type {\n",
              "        vertical-align: middle;\n",
              "    }\n",
              "\n",
              "    .dataframe tbody tr th {\n",
              "        vertical-align: top;\n",
              "    }\n",
              "\n",
              "    .dataframe thead th {\n",
              "        text-align: right;\n",
              "    }\n",
              "</style>\n",
              "<table border=\"1\" class=\"dataframe\">\n",
              "  <thead>\n",
              "    <tr style=\"text-align: right;\">\n",
              "      <th></th>\n",
              "      <th>step</th>\n",
              "      <th>type</th>\n",
              "      <th>amount</th>\n",
              "      <th>nameOrig</th>\n",
              "      <th>oldbalanceOrg</th>\n",
              "      <th>newbalanceOrig</th>\n",
              "      <th>nameDest</th>\n",
              "      <th>oldbalanceDest</th>\n",
              "      <th>newbalanceDest</th>\n",
              "      <th>isFraud</th>\n",
              "      <th>isFlaggedFraud</th>\n",
              "      <th>account_transactions</th>\n",
              "      <th>type_sign</th>\n",
              "      <th>amount_sign</th>\n",
              "    </tr>\n",
              "  </thead>\n",
              "  <tbody>\n",
              "    <tr>\n",
              "      <th>0</th>\n",
              "      <td>1</td>\n",
              "      <td>PAYMENT</td>\n",
              "      <td>9839.64</td>\n",
              "      <td>C1231006815</td>\n",
              "      <td>170136.0</td>\n",
              "      <td>160296.36</td>\n",
              "      <td>M1979787155</td>\n",
              "      <td>0.0</td>\n",
              "      <td>0.0</td>\n",
              "      <td>0</td>\n",
              "      <td>0</td>\n",
              "      <td>CM</td>\n",
              "      <td>-1</td>\n",
              "      <td>-9839.64</td>\n",
              "    </tr>\n",
              "    <tr>\n",
              "      <th>1</th>\n",
              "      <td>1</td>\n",
              "      <td>PAYMENT</td>\n",
              "      <td>1864.28</td>\n",
              "      <td>C1666544295</td>\n",
              "      <td>21249.0</td>\n",
              "      <td>19384.72</td>\n",
              "      <td>M2044282225</td>\n",
              "      <td>0.0</td>\n",
              "      <td>0.0</td>\n",
              "      <td>0</td>\n",
              "      <td>0</td>\n",
              "      <td>CM</td>\n",
              "      <td>-1</td>\n",
              "      <td>-1864.28</td>\n",
              "    </tr>\n",
              "    <tr>\n",
              "      <th>2</th>\n",
              "      <td>1</td>\n",
              "      <td>TRANSFER</td>\n",
              "      <td>181.00</td>\n",
              "      <td>C1305486145</td>\n",
              "      <td>181.0</td>\n",
              "      <td>0.00</td>\n",
              "      <td>C553264065</td>\n",
              "      <td>0.0</td>\n",
              "      <td>0.0</td>\n",
              "      <td>1</td>\n",
              "      <td>0</td>\n",
              "      <td>CC</td>\n",
              "      <td>-1</td>\n",
              "      <td>-181.00</td>\n",
              "    </tr>\n",
              "    <tr>\n",
              "      <th>3</th>\n",
              "      <td>1</td>\n",
              "      <td>CASH_OUT</td>\n",
              "      <td>181.00</td>\n",
              "      <td>C840083671</td>\n",
              "      <td>181.0</td>\n",
              "      <td>0.00</td>\n",
              "      <td>C38997010</td>\n",
              "      <td>21182.0</td>\n",
              "      <td>0.0</td>\n",
              "      <td>1</td>\n",
              "      <td>0</td>\n",
              "      <td>CC</td>\n",
              "      <td>-1</td>\n",
              "      <td>-181.00</td>\n",
              "    </tr>\n",
              "    <tr>\n",
              "      <th>4</th>\n",
              "      <td>1</td>\n",
              "      <td>PAYMENT</td>\n",
              "      <td>11668.14</td>\n",
              "      <td>C2048537720</td>\n",
              "      <td>41554.0</td>\n",
              "      <td>29885.86</td>\n",
              "      <td>M1230701703</td>\n",
              "      <td>0.0</td>\n",
              "      <td>0.0</td>\n",
              "      <td>0</td>\n",
              "      <td>0</td>\n",
              "      <td>CM</td>\n",
              "      <td>-1</td>\n",
              "      <td>-11668.14</td>\n",
              "    </tr>\n",
              "  </tbody>\n",
              "</table>\n",
              "</div>\n",
              "      <button class=\"colab-df-convert\" onclick=\"convertToInteractive('df-dc71e408-f4ae-4f17-9cd6-858f7ce0ebfa')\"\n",
              "              title=\"Convert this dataframe to an interactive table.\"\n",
              "              style=\"display:none;\">\n",
              "        \n",
              "  <svg xmlns=\"http://www.w3.org/2000/svg\" height=\"24px\"viewBox=\"0 0 24 24\"\n",
              "       width=\"24px\">\n",
              "    <path d=\"M0 0h24v24H0V0z\" fill=\"none\"/>\n",
              "    <path d=\"M18.56 5.44l.94 2.06.94-2.06 2.06-.94-2.06-.94-.94-2.06-.94 2.06-2.06.94zm-11 1L8.5 8.5l.94-2.06 2.06-.94-2.06-.94L8.5 2.5l-.94 2.06-2.06.94zm10 10l.94 2.06.94-2.06 2.06-.94-2.06-.94-.94-2.06-.94 2.06-2.06.94z\"/><path d=\"M17.41 7.96l-1.37-1.37c-.4-.4-.92-.59-1.43-.59-.52 0-1.04.2-1.43.59L10.3 9.45l-7.72 7.72c-.78.78-.78 2.05 0 2.83L4 21.41c.39.39.9.59 1.41.59.51 0 1.02-.2 1.41-.59l7.78-7.78 2.81-2.81c.8-.78.8-2.07 0-2.86zM5.41 20L4 18.59l7.72-7.72 1.47 1.35L5.41 20z\"/>\n",
              "  </svg>\n",
              "      </button>\n",
              "      \n",
              "  <style>\n",
              "    .colab-df-container {\n",
              "      display:flex;\n",
              "      flex-wrap:wrap;\n",
              "      gap: 12px;\n",
              "    }\n",
              "\n",
              "    .colab-df-convert {\n",
              "      background-color: #E8F0FE;\n",
              "      border: none;\n",
              "      border-radius: 50%;\n",
              "      cursor: pointer;\n",
              "      display: none;\n",
              "      fill: #1967D2;\n",
              "      height: 32px;\n",
              "      padding: 0 0 0 0;\n",
              "      width: 32px;\n",
              "    }\n",
              "\n",
              "    .colab-df-convert:hover {\n",
              "      background-color: #E2EBFA;\n",
              "      box-shadow: 0px 1px 2px rgba(60, 64, 67, 0.3), 0px 1px 3px 1px rgba(60, 64, 67, 0.15);\n",
              "      fill: #174EA6;\n",
              "    }\n",
              "\n",
              "    [theme=dark] .colab-df-convert {\n",
              "      background-color: #3B4455;\n",
              "      fill: #D2E3FC;\n",
              "    }\n",
              "\n",
              "    [theme=dark] .colab-df-convert:hover {\n",
              "      background-color: #434B5C;\n",
              "      box-shadow: 0px 1px 3px 1px rgba(0, 0, 0, 0.15);\n",
              "      filter: drop-shadow(0px 1px 2px rgba(0, 0, 0, 0.3));\n",
              "      fill: #FFFFFF;\n",
              "    }\n",
              "  </style>\n",
              "\n",
              "      <script>\n",
              "        const buttonEl =\n",
              "          document.querySelector('#df-dc71e408-f4ae-4f17-9cd6-858f7ce0ebfa button.colab-df-convert');\n",
              "        buttonEl.style.display =\n",
              "          google.colab.kernel.accessAllowed ? 'block' : 'none';\n",
              "\n",
              "        async function convertToInteractive(key) {\n",
              "          const element = document.querySelector('#df-dc71e408-f4ae-4f17-9cd6-858f7ce0ebfa');\n",
              "          const dataTable =\n",
              "            await google.colab.kernel.invokeFunction('convertToInteractive',\n",
              "                                                     [key], {});\n",
              "          if (!dataTable) return;\n",
              "\n",
              "          const docLinkHtml = 'Like what you see? Visit the ' +\n",
              "            '<a target=\"_blank\" href=https://colab.research.google.com/notebooks/data_table.ipynb>data table notebook</a>'\n",
              "            + ' to learn more about interactive tables.';\n",
              "          element.innerHTML = '';\n",
              "          dataTable['output_type'] = 'display_data';\n",
              "          await google.colab.output.renderOutput(dataTable, element);\n",
              "          const docLink = document.createElement('div');\n",
              "          docLink.innerHTML = docLinkHtml;\n",
              "          element.appendChild(docLink);\n",
              "        }\n",
              "      </script>\n",
              "    </div>\n",
              "  </div>\n",
              "  "
            ]
          },
          "metadata": {},
          "execution_count": 34
        }
      ]
    },
    {
      "cell_type": "code",
      "source": [
        "##Calculating percentage of transactions having error in balance of Origin of transaction\n",
        "print('Percent of transactions having error in oldbalance and newbalance of Orig = ',\n",
        "      (df['newbalanceOrig'] + df['amount_sign'] != df['oldbalanceOrg']).sum() / len(df) * 100)\n",
        "\n",
        "#Calculating percentage of transactions having error in balance of Destination of transaction\n",
        "print('Percent of transactions having error in oldbalance and newbalance of Orig = ',\n",
        "      (df['oldbalanceDest'] - df['amount_sign'] != df['newbalanceDest']).sum() / len(df) * 100)"
      ],
      "metadata": {
        "colab": {
          "base_uri": "https://localhost:8080/"
        },
        "id": "XKnCK0HUd50b",
        "outputId": "1bc72828-369e-4713-eb94-fb17da7e77a0"
      },
      "execution_count": null,
      "outputs": [
        {
          "output_type": "stream",
          "name": "stdout",
          "text": [
            "Percent of transactions having error in oldbalance and newbalance of Orig =  99.99974853126542\n",
            "Percent of transactions having error in oldbalance and newbalance of Orig =  67.01844523168128\n"
          ]
        }
      ]
    },
    {
      "cell_type": "code",
      "source": [
        "#Drop features\n",
        "df.drop(['type_sign','amount_sign'],axis=1,inplace=True)"
      ],
      "metadata": {
        "id": "xm3sAX5QtJVW"
      },
      "execution_count": null,
      "outputs": []
    },
    {
      "cell_type": "code",
      "source": [
        "#Lets check error wrt fraud and valid transaction\n",
        "# adding features errorBalanceOrg, errorBalanceDest\n",
        "df[\"errorBalanceOrg\"] = df['newbalanceOrig'] + df['amount'] - df['oldbalanceOrg']\n",
        "df[\"errorBalanceDest\"] = df['oldbalanceDest'] + df['amount'] - df['newbalanceDest']\n",
        "df.head()"
      ],
      "metadata": {
        "colab": {
          "base_uri": "https://localhost:8080/"
        },
        "id": "mL7Bc73FgwkT",
        "outputId": "179c7167-f956-4c80-d360-82d935345aab"
      },
      "execution_count": null,
      "outputs": [
        {
          "output_type": "execute_result",
          "data": {
            "text/plain": [
              "   step      type    amount     nameOrig  oldbalanceOrg  newbalanceOrig  \\\n",
              "0     1   PAYMENT   9839.64  C1231006815       170136.0       160296.36   \n",
              "1     1   PAYMENT   1864.28  C1666544295        21249.0        19384.72   \n",
              "2     1  TRANSFER    181.00  C1305486145          181.0            0.00   \n",
              "3     1  CASH_OUT    181.00   C840083671          181.0            0.00   \n",
              "4     1   PAYMENT  11668.14  C2048537720        41554.0        29885.86   \n",
              "\n",
              "      nameDest  oldbalanceDest  newbalanceDest  isFraud  isFlaggedFraud  \\\n",
              "0  M1979787155             0.0             0.0        0               0   \n",
              "1  M2044282225             0.0             0.0        0               0   \n",
              "2   C553264065             0.0             0.0        1               0   \n",
              "3    C38997010         21182.0             0.0        1               0   \n",
              "4  M1230701703             0.0             0.0        0               0   \n",
              "\n",
              "  account_transactions  errorBalanceOrg  errorBalanceDest  \n",
              "0                   CM              0.0           9839.64  \n",
              "1                   CM              0.0           1864.28  \n",
              "2                   CC              0.0            181.00  \n",
              "3                   CC              0.0          21363.00  \n",
              "4                   CM              0.0          11668.14  "
            ],
            "text/html": [
              "\n",
              "  <div id=\"df-1a7d80ad-df52-448f-83e2-0f77d45b1559\">\n",
              "    <div class=\"colab-df-container\">\n",
              "      <div>\n",
              "<style scoped>\n",
              "    .dataframe tbody tr th:only-of-type {\n",
              "        vertical-align: middle;\n",
              "    }\n",
              "\n",
              "    .dataframe tbody tr th {\n",
              "        vertical-align: top;\n",
              "    }\n",
              "\n",
              "    .dataframe thead th {\n",
              "        text-align: right;\n",
              "    }\n",
              "</style>\n",
              "<table border=\"1\" class=\"dataframe\">\n",
              "  <thead>\n",
              "    <tr style=\"text-align: right;\">\n",
              "      <th></th>\n",
              "      <th>step</th>\n",
              "      <th>type</th>\n",
              "      <th>amount</th>\n",
              "      <th>nameOrig</th>\n",
              "      <th>oldbalanceOrg</th>\n",
              "      <th>newbalanceOrig</th>\n",
              "      <th>nameDest</th>\n",
              "      <th>oldbalanceDest</th>\n",
              "      <th>newbalanceDest</th>\n",
              "      <th>isFraud</th>\n",
              "      <th>isFlaggedFraud</th>\n",
              "      <th>account_transactions</th>\n",
              "      <th>errorBalanceOrg</th>\n",
              "      <th>errorBalanceDest</th>\n",
              "    </tr>\n",
              "  </thead>\n",
              "  <tbody>\n",
              "    <tr>\n",
              "      <th>0</th>\n",
              "      <td>1</td>\n",
              "      <td>PAYMENT</td>\n",
              "      <td>9839.64</td>\n",
              "      <td>C1231006815</td>\n",
              "      <td>170136.0</td>\n",
              "      <td>160296.36</td>\n",
              "      <td>M1979787155</td>\n",
              "      <td>0.0</td>\n",
              "      <td>0.0</td>\n",
              "      <td>0</td>\n",
              "      <td>0</td>\n",
              "      <td>CM</td>\n",
              "      <td>0.0</td>\n",
              "      <td>9839.64</td>\n",
              "    </tr>\n",
              "    <tr>\n",
              "      <th>1</th>\n",
              "      <td>1</td>\n",
              "      <td>PAYMENT</td>\n",
              "      <td>1864.28</td>\n",
              "      <td>C1666544295</td>\n",
              "      <td>21249.0</td>\n",
              "      <td>19384.72</td>\n",
              "      <td>M2044282225</td>\n",
              "      <td>0.0</td>\n",
              "      <td>0.0</td>\n",
              "      <td>0</td>\n",
              "      <td>0</td>\n",
              "      <td>CM</td>\n",
              "      <td>0.0</td>\n",
              "      <td>1864.28</td>\n",
              "    </tr>\n",
              "    <tr>\n",
              "      <th>2</th>\n",
              "      <td>1</td>\n",
              "      <td>TRANSFER</td>\n",
              "      <td>181.00</td>\n",
              "      <td>C1305486145</td>\n",
              "      <td>181.0</td>\n",
              "      <td>0.00</td>\n",
              "      <td>C553264065</td>\n",
              "      <td>0.0</td>\n",
              "      <td>0.0</td>\n",
              "      <td>1</td>\n",
              "      <td>0</td>\n",
              "      <td>CC</td>\n",
              "      <td>0.0</td>\n",
              "      <td>181.00</td>\n",
              "    </tr>\n",
              "    <tr>\n",
              "      <th>3</th>\n",
              "      <td>1</td>\n",
              "      <td>CASH_OUT</td>\n",
              "      <td>181.00</td>\n",
              "      <td>C840083671</td>\n",
              "      <td>181.0</td>\n",
              "      <td>0.00</td>\n",
              "      <td>C38997010</td>\n",
              "      <td>21182.0</td>\n",
              "      <td>0.0</td>\n",
              "      <td>1</td>\n",
              "      <td>0</td>\n",
              "      <td>CC</td>\n",
              "      <td>0.0</td>\n",
              "      <td>21363.00</td>\n",
              "    </tr>\n",
              "    <tr>\n",
              "      <th>4</th>\n",
              "      <td>1</td>\n",
              "      <td>PAYMENT</td>\n",
              "      <td>11668.14</td>\n",
              "      <td>C2048537720</td>\n",
              "      <td>41554.0</td>\n",
              "      <td>29885.86</td>\n",
              "      <td>M1230701703</td>\n",
              "      <td>0.0</td>\n",
              "      <td>0.0</td>\n",
              "      <td>0</td>\n",
              "      <td>0</td>\n",
              "      <td>CM</td>\n",
              "      <td>0.0</td>\n",
              "      <td>11668.14</td>\n",
              "    </tr>\n",
              "  </tbody>\n",
              "</table>\n",
              "</div>\n",
              "      <button class=\"colab-df-convert\" onclick=\"convertToInteractive('df-1a7d80ad-df52-448f-83e2-0f77d45b1559')\"\n",
              "              title=\"Convert this dataframe to an interactive table.\"\n",
              "              style=\"display:none;\">\n",
              "        \n",
              "  <svg xmlns=\"http://www.w3.org/2000/svg\" height=\"24px\"viewBox=\"0 0 24 24\"\n",
              "       width=\"24px\">\n",
              "    <path d=\"M0 0h24v24H0V0z\" fill=\"none\"/>\n",
              "    <path d=\"M18.56 5.44l.94 2.06.94-2.06 2.06-.94-2.06-.94-.94-2.06-.94 2.06-2.06.94zm-11 1L8.5 8.5l.94-2.06 2.06-.94-2.06-.94L8.5 2.5l-.94 2.06-2.06.94zm10 10l.94 2.06.94-2.06 2.06-.94-2.06-.94-.94-2.06-.94 2.06-2.06.94z\"/><path d=\"M17.41 7.96l-1.37-1.37c-.4-.4-.92-.59-1.43-.59-.52 0-1.04.2-1.43.59L10.3 9.45l-7.72 7.72c-.78.78-.78 2.05 0 2.83L4 21.41c.39.39.9.59 1.41.59.51 0 1.02-.2 1.41-.59l7.78-7.78 2.81-2.81c.8-.78.8-2.07 0-2.86zM5.41 20L4 18.59l7.72-7.72 1.47 1.35L5.41 20z\"/>\n",
              "  </svg>\n",
              "      </button>\n",
              "      \n",
              "  <style>\n",
              "    .colab-df-container {\n",
              "      display:flex;\n",
              "      flex-wrap:wrap;\n",
              "      gap: 12px;\n",
              "    }\n",
              "\n",
              "    .colab-df-convert {\n",
              "      background-color: #E8F0FE;\n",
              "      border: none;\n",
              "      border-radius: 50%;\n",
              "      cursor: pointer;\n",
              "      display: none;\n",
              "      fill: #1967D2;\n",
              "      height: 32px;\n",
              "      padding: 0 0 0 0;\n",
              "      width: 32px;\n",
              "    }\n",
              "\n",
              "    .colab-df-convert:hover {\n",
              "      background-color: #E2EBFA;\n",
              "      box-shadow: 0px 1px 2px rgba(60, 64, 67, 0.3), 0px 1px 3px 1px rgba(60, 64, 67, 0.15);\n",
              "      fill: #174EA6;\n",
              "    }\n",
              "\n",
              "    [theme=dark] .colab-df-convert {\n",
              "      background-color: #3B4455;\n",
              "      fill: #D2E3FC;\n",
              "    }\n",
              "\n",
              "    [theme=dark] .colab-df-convert:hover {\n",
              "      background-color: #434B5C;\n",
              "      box-shadow: 0px 1px 3px 1px rgba(0, 0, 0, 0.15);\n",
              "      filter: drop-shadow(0px 1px 2px rgba(0, 0, 0, 0.3));\n",
              "      fill: #FFFFFF;\n",
              "    }\n",
              "  </style>\n",
              "\n",
              "      <script>\n",
              "        const buttonEl =\n",
              "          document.querySelector('#df-1a7d80ad-df52-448f-83e2-0f77d45b1559 button.colab-df-convert');\n",
              "        buttonEl.style.display =\n",
              "          google.colab.kernel.accessAllowed ? 'block' : 'none';\n",
              "\n",
              "        async function convertToInteractive(key) {\n",
              "          const element = document.querySelector('#df-1a7d80ad-df52-448f-83e2-0f77d45b1559');\n",
              "          const dataTable =\n",
              "            await google.colab.kernel.invokeFunction('convertToInteractive',\n",
              "                                                     [key], {});\n",
              "          if (!dataTable) return;\n",
              "\n",
              "          const docLinkHtml = 'Like what you see? Visit the ' +\n",
              "            '<a target=\"_blank\" href=https://colab.research.google.com/notebooks/data_table.ipynb>data table notebook</a>'\n",
              "            + ' to learn more about interactive tables.';\n",
              "          element.innerHTML = '';\n",
              "          dataTable['output_type'] = 'display_data';\n",
              "          await google.colab.output.renderOutput(dataTable, element);\n",
              "          const docLink = document.createElement('div');\n",
              "          docLink.innerHTML = docLinkHtml;\n",
              "          element.appendChild(docLink);\n",
              "        }\n",
              "      </script>\n",
              "    </div>\n",
              "  </div>\n",
              "  "
            ]
          },
          "metadata": {},
          "execution_count": 37
        }
      ]
    },
    {
      "cell_type": "code",
      "source": [
        "#Separating fraud and valid types of transactions\n",
        "fraud = df[df[\"isFraud\"] == 1]\n",
        "valid = df[df[\"isFraud\"] == 0]"
      ],
      "metadata": {
        "id": "U5KfShZslkur"
      },
      "execution_count": null,
      "outputs": []
    },
    {
      "cell_type": "code",
      "source": [
        "#ErrorbalanceOrg statistics\n",
        "print('ErrorbalanceOrig statistics Statistics')\n",
        "print('-'*100)\n",
        "\n",
        "print('Valid transactions Statistics')\n",
        "print(valid['errorBalanceOrg'].describe())\n",
        "print('='*80)\n",
        "print('Fraud transactions Statistics')\n",
        "print(fraud['errorBalanceOrg'].describe())"
      ],
      "metadata": {
        "colab": {
          "base_uri": "https://localhost:8080/"
        },
        "id": "JcKjd_dXxKIg",
        "outputId": "f433406e-10bf-4f65-b80f-3994317d0662"
      },
      "execution_count": null,
      "outputs": [
        {
          "output_type": "stream",
          "name": "stdout",
          "text": [
            "ErrorbalanceOrig statistics Statistics\n",
            "----------------------------------------------------------------------------------------------------\n",
            "Valid transactions Statistics\n",
            "count    6.354407e+06\n",
            "mean     2.013386e+05\n",
            "std      6.069289e+05\n",
            "min     -1.000000e-02\n",
            "25%      3.034305e+03\n",
            "50%      6.904931e+04\n",
            "75%      2.499534e+05\n",
            "max      9.244552e+07\n",
            "Name: errorBalanceOrg, dtype: float64\n",
            "================================================================================\n",
            "Fraud transactions Statistics\n",
            "count    8.213000e+03\n",
            "mean     1.069233e+04\n",
            "std      2.651461e+05\n",
            "min     -7.450581e-09\n",
            "25%      0.000000e+00\n",
            "50%      0.000000e+00\n",
            "75%      0.000000e+00\n",
            "max      1.000000e+07\n",
            "Name: errorBalanceOrg, dtype: float64\n"
          ]
        }
      ]
    },
    {
      "cell_type": "markdown",
      "source": [
        "- Observation \n",
        "  - **Most of the errorbalanceOrg of fraud transactions are -ve and upto 75% transactions are having error value less than 0. Hence this can be signifiacant point to categories valid and fraud transactions**\n",
        "  - while in case of valid transactions have large errorbalanceorig"
      ],
      "metadata": {
        "id": "RJl4hnZVzIFM"
      }
    },
    {
      "cell_type": "code",
      "source": [
        "#ErrorbalanceDest statistics\n",
        "print('ErrorbalanceOrig statistics')\n",
        "print('-'*100)\n",
        "\n",
        "print('Valid transactions Statistics')\n",
        "print(valid['errorBalanceDest'].describe())\n",
        "print('='*80)\n",
        "\n",
        "print('Fraud transactions Statistics')\n",
        "print(fraud['errorBalanceDest'].describe())"
      ],
      "metadata": {
        "colab": {
          "base_uri": "https://localhost:8080/"
        },
        "id": "-2wAuQZRw6ky",
        "outputId": "4fc3a82c-9578-4df1-eb63-086b5a65a95d"
      },
      "execution_count": null,
      "outputs": [
        {
          "output_type": "stream",
          "name": "stdout",
          "text": [
            "ErrorbalanceOrig statistics\n",
            "----------------------------------------------------------------------------------------------------\n",
            "Valid transactions Statistics\n",
            "count    6.354407e+06\n",
            "mean     5.469223e+04\n",
            "std      4.360026e+05\n",
            "min     -7.588573e+07\n",
            "25%      0.000000e+00\n",
            "50%      3.500680e+03\n",
            "75%      2.925981e+04\n",
            "max      1.319123e+07\n",
            "Name: errorBalanceDest, dtype: float64\n",
            "================================================================================\n",
            "Fraud transactions Statistics\n",
            "count    8.213000e+03\n",
            "mean     7.325093e+05\n",
            "std      1.867748e+06\n",
            "min     -8.875516e+06\n",
            "25%      0.000000e+00\n",
            "50%      2.231460e+03\n",
            "75%      4.427220e+05\n",
            "max      1.000000e+07\n",
            "Name: errorBalanceDest, dtype: float64\n"
          ]
        }
      ]
    },
    {
      "cell_type": "markdown",
      "source": [
        "- Observation\n",
        "  - Both fraud and valid transactions have high value of errorbalanceDest.\n",
        "  "
      ],
      "metadata": {
        "id": "NkoBFTc73p35"
      }
    },
    {
      "cell_type": "code",
      "source": [
        "print(\"Proportion of fraudulent_transactions with erroralanceDest > 0 =  \", np.round(len(fraud[fraud['errorBalanceDest'] > 0])/len(fraud),2))\n",
        "print('=='*50)\n",
        "print(\"Proportion of valid_transactions with errorBalanceDest > 0 = \", np.round(len(valid[valid['errorBalanceDest'] > 0])/len(valid),2))\n",
        "print('=='*50)\n",
        "print(\"Proportion of fraudulent_transactions with errorBalanceOrg > 0 = \", np.round(len(fraud[fraud['errorBalanceOrg'] > 0])/len(fraud),3))\n",
        "print('=='*50)\n",
        "print(\"Proportion of valid_transactions with errorBalanceOrg > 0 = \", np.round(len(valid[valid['errorBalanceOrg'] > 0])/len(valid),3))"
      ],
      "metadata": {
        "colab": {
          "base_uri": "https://localhost:8080/"
        },
        "id": "GMv2eIO-mXbl",
        "outputId": "7ef43e06-e9b9-4c7d-dc03-6ae8149e8689"
      },
      "execution_count": null,
      "outputs": [
        {
          "output_type": "stream",
          "name": "stdout",
          "text": [
            "Proportion of fraudulent_transactions with erroralanceDest > 0 =   0.57\n",
            "====================================================================================================\n",
            "Proportion of valid_transactions with errorBalanceDest > 0 =  0.64\n",
            "====================================================================================================\n",
            "Proportion of fraudulent_transactions with errorBalanceOrg > 0 =  0.006\n",
            "====================================================================================================\n",
            "Proportion of valid_transactions with errorBalanceOrg > 0 =  0.804\n"
          ]
        }
      ]
    },
    {
      "cell_type": "markdown",
      "source": [
        "- observation with proportion \n",
        "  - Valid transaction are likely to have more error in balanceOrg\n",
        "  - Fraud transaction have less proportion in errorbalanceOrg"
      ],
      "metadata": {
        "id": "0G0wOVMjnjQx"
      }
    },
    {
      "cell_type": "markdown",
      "source": [
        "# **2. Preprocessing**"
      ],
      "metadata": {
        "id": "LxHzsJJ2_MMs"
      }
    },
    {
      "cell_type": "markdown",
      "source": [
        "- **Drop isFlaggered feature** because there are error in marking isFlaggedFrauds.\n",
        "-  **Drop nameOrig,nameDest** because fraud type transactions are only Customer_Customer type transactions as per EDA.\n",
        "- We will add 3 new features :\n",
        "  - errorBalanceOrg :\n",
        "  - errorBalanceDest :\n",
        "  - Hour_Of_Day :\n",
        "\n",
        "- We will consider **only datapoints whos transaction type is CASH_OUT or TRANSFER**,because these are datapoints having fraud transactions"
      ],
      "metadata": {
        "id": "q35A1VAH_ggk"
      }
    },
    {
      "cell_type": "code",
      "source": [
        "#Reading data file\n",
        "df = pd.read_csv(file)\n",
        "\n",
        "# Filter only datapoints whos transaction type is CASH_OUT or TRANSFER**\n",
        "df = df[df['type'].isin(['TRANSFER','CASH_OUT'])]\n",
        "df.head()"
      ],
      "metadata": {
        "colab": {
          "base_uri": "https://localhost:8080/"
        },
        "id": "FN8vpqRwCuWE",
        "outputId": "7e71723d-bc6d-445d-915b-09721cd56880"
      },
      "execution_count": null,
      "outputs": [
        {
          "output_type": "execute_result",
          "data": {
            "text/plain": [
              "    step      type     amount     nameOrig  oldbalanceOrg  newbalanceOrig  \\\n",
              "2      1  TRANSFER     181.00  C1305486145          181.0             0.0   \n",
              "3      1  CASH_OUT     181.00   C840083671          181.0             0.0   \n",
              "15     1  CASH_OUT  229133.94   C905080434        15325.0             0.0   \n",
              "19     1  TRANSFER  215310.30  C1670993182          705.0             0.0   \n",
              "24     1  TRANSFER  311685.89  C1984094095        10835.0             0.0   \n",
              "\n",
              "       nameDest  oldbalanceDest  newbalanceDest  isFraud  isFlaggedFraud  \n",
              "2    C553264065             0.0            0.00        1               0  \n",
              "3     C38997010         21182.0            0.00        1               0  \n",
              "15   C476402209          5083.0        51513.44        0               0  \n",
              "19  C1100439041         22425.0            0.00        0               0  \n",
              "24   C932583850          6267.0      2719172.89        0               0  "
            ],
            "text/html": [
              "\n",
              "  <div id=\"df-6a44a9b9-412b-45bc-935b-ec264beb7ad0\">\n",
              "    <div class=\"colab-df-container\">\n",
              "      <div>\n",
              "<style scoped>\n",
              "    .dataframe tbody tr th:only-of-type {\n",
              "        vertical-align: middle;\n",
              "    }\n",
              "\n",
              "    .dataframe tbody tr th {\n",
              "        vertical-align: top;\n",
              "    }\n",
              "\n",
              "    .dataframe thead th {\n",
              "        text-align: right;\n",
              "    }\n",
              "</style>\n",
              "<table border=\"1\" class=\"dataframe\">\n",
              "  <thead>\n",
              "    <tr style=\"text-align: right;\">\n",
              "      <th></th>\n",
              "      <th>step</th>\n",
              "      <th>type</th>\n",
              "      <th>amount</th>\n",
              "      <th>nameOrig</th>\n",
              "      <th>oldbalanceOrg</th>\n",
              "      <th>newbalanceOrig</th>\n",
              "      <th>nameDest</th>\n",
              "      <th>oldbalanceDest</th>\n",
              "      <th>newbalanceDest</th>\n",
              "      <th>isFraud</th>\n",
              "      <th>isFlaggedFraud</th>\n",
              "    </tr>\n",
              "  </thead>\n",
              "  <tbody>\n",
              "    <tr>\n",
              "      <th>2</th>\n",
              "      <td>1</td>\n",
              "      <td>TRANSFER</td>\n",
              "      <td>181.00</td>\n",
              "      <td>C1305486145</td>\n",
              "      <td>181.0</td>\n",
              "      <td>0.0</td>\n",
              "      <td>C553264065</td>\n",
              "      <td>0.0</td>\n",
              "      <td>0.00</td>\n",
              "      <td>1</td>\n",
              "      <td>0</td>\n",
              "    </tr>\n",
              "    <tr>\n",
              "      <th>3</th>\n",
              "      <td>1</td>\n",
              "      <td>CASH_OUT</td>\n",
              "      <td>181.00</td>\n",
              "      <td>C840083671</td>\n",
              "      <td>181.0</td>\n",
              "      <td>0.0</td>\n",
              "      <td>C38997010</td>\n",
              "      <td>21182.0</td>\n",
              "      <td>0.00</td>\n",
              "      <td>1</td>\n",
              "      <td>0</td>\n",
              "    </tr>\n",
              "    <tr>\n",
              "      <th>15</th>\n",
              "      <td>1</td>\n",
              "      <td>CASH_OUT</td>\n",
              "      <td>229133.94</td>\n",
              "      <td>C905080434</td>\n",
              "      <td>15325.0</td>\n",
              "      <td>0.0</td>\n",
              "      <td>C476402209</td>\n",
              "      <td>5083.0</td>\n",
              "      <td>51513.44</td>\n",
              "      <td>0</td>\n",
              "      <td>0</td>\n",
              "    </tr>\n",
              "    <tr>\n",
              "      <th>19</th>\n",
              "      <td>1</td>\n",
              "      <td>TRANSFER</td>\n",
              "      <td>215310.30</td>\n",
              "      <td>C1670993182</td>\n",
              "      <td>705.0</td>\n",
              "      <td>0.0</td>\n",
              "      <td>C1100439041</td>\n",
              "      <td>22425.0</td>\n",
              "      <td>0.00</td>\n",
              "      <td>0</td>\n",
              "      <td>0</td>\n",
              "    </tr>\n",
              "    <tr>\n",
              "      <th>24</th>\n",
              "      <td>1</td>\n",
              "      <td>TRANSFER</td>\n",
              "      <td>311685.89</td>\n",
              "      <td>C1984094095</td>\n",
              "      <td>10835.0</td>\n",
              "      <td>0.0</td>\n",
              "      <td>C932583850</td>\n",
              "      <td>6267.0</td>\n",
              "      <td>2719172.89</td>\n",
              "      <td>0</td>\n",
              "      <td>0</td>\n",
              "    </tr>\n",
              "  </tbody>\n",
              "</table>\n",
              "</div>\n",
              "      <button class=\"colab-df-convert\" onclick=\"convertToInteractive('df-6a44a9b9-412b-45bc-935b-ec264beb7ad0')\"\n",
              "              title=\"Convert this dataframe to an interactive table.\"\n",
              "              style=\"display:none;\">\n",
              "        \n",
              "  <svg xmlns=\"http://www.w3.org/2000/svg\" height=\"24px\"viewBox=\"0 0 24 24\"\n",
              "       width=\"24px\">\n",
              "    <path d=\"M0 0h24v24H0V0z\" fill=\"none\"/>\n",
              "    <path d=\"M18.56 5.44l.94 2.06.94-2.06 2.06-.94-2.06-.94-.94-2.06-.94 2.06-2.06.94zm-11 1L8.5 8.5l.94-2.06 2.06-.94-2.06-.94L8.5 2.5l-.94 2.06-2.06.94zm10 10l.94 2.06.94-2.06 2.06-.94-2.06-.94-.94-2.06-.94 2.06-2.06.94z\"/><path d=\"M17.41 7.96l-1.37-1.37c-.4-.4-.92-.59-1.43-.59-.52 0-1.04.2-1.43.59L10.3 9.45l-7.72 7.72c-.78.78-.78 2.05 0 2.83L4 21.41c.39.39.9.59 1.41.59.51 0 1.02-.2 1.41-.59l7.78-7.78 2.81-2.81c.8-.78.8-2.07 0-2.86zM5.41 20L4 18.59l7.72-7.72 1.47 1.35L5.41 20z\"/>\n",
              "  </svg>\n",
              "      </button>\n",
              "      \n",
              "  <style>\n",
              "    .colab-df-container {\n",
              "      display:flex;\n",
              "      flex-wrap:wrap;\n",
              "      gap: 12px;\n",
              "    }\n",
              "\n",
              "    .colab-df-convert {\n",
              "      background-color: #E8F0FE;\n",
              "      border: none;\n",
              "      border-radius: 50%;\n",
              "      cursor: pointer;\n",
              "      display: none;\n",
              "      fill: #1967D2;\n",
              "      height: 32px;\n",
              "      padding: 0 0 0 0;\n",
              "      width: 32px;\n",
              "    }\n",
              "\n",
              "    .colab-df-convert:hover {\n",
              "      background-color: #E2EBFA;\n",
              "      box-shadow: 0px 1px 2px rgba(60, 64, 67, 0.3), 0px 1px 3px 1px rgba(60, 64, 67, 0.15);\n",
              "      fill: #174EA6;\n",
              "    }\n",
              "\n",
              "    [theme=dark] .colab-df-convert {\n",
              "      background-color: #3B4455;\n",
              "      fill: #D2E3FC;\n",
              "    }\n",
              "\n",
              "    [theme=dark] .colab-df-convert:hover {\n",
              "      background-color: #434B5C;\n",
              "      box-shadow: 0px 1px 3px 1px rgba(0, 0, 0, 0.15);\n",
              "      filter: drop-shadow(0px 1px 2px rgba(0, 0, 0, 0.3));\n",
              "      fill: #FFFFFF;\n",
              "    }\n",
              "  </style>\n",
              "\n",
              "      <script>\n",
              "        const buttonEl =\n",
              "          document.querySelector('#df-6a44a9b9-412b-45bc-935b-ec264beb7ad0 button.colab-df-convert');\n",
              "        buttonEl.style.display =\n",
              "          google.colab.kernel.accessAllowed ? 'block' : 'none';\n",
              "\n",
              "        async function convertToInteractive(key) {\n",
              "          const element = document.querySelector('#df-6a44a9b9-412b-45bc-935b-ec264beb7ad0');\n",
              "          const dataTable =\n",
              "            await google.colab.kernel.invokeFunction('convertToInteractive',\n",
              "                                                     [key], {});\n",
              "          if (!dataTable) return;\n",
              "\n",
              "          const docLinkHtml = 'Like what you see? Visit the ' +\n",
              "            '<a target=\"_blank\" href=https://colab.research.google.com/notebooks/data_table.ipynb>data table notebook</a>'\n",
              "            + ' to learn more about interactive tables.';\n",
              "          element.innerHTML = '';\n",
              "          dataTable['output_type'] = 'display_data';\n",
              "          await google.colab.output.renderOutput(dataTable, element);\n",
              "          const docLink = document.createElement('div');\n",
              "          docLink.innerHTML = docLinkHtml;\n",
              "          element.appendChild(docLink);\n",
              "        }\n",
              "      </script>\n",
              "    </div>\n",
              "  </div>\n",
              "  "
            ]
          },
          "metadata": {},
          "execution_count": 42
        }
      ]
    },
    {
      "cell_type": "code",
      "source": [
        "#Converting Categorical features to OneHotEncoded Features\n",
        "ohe_type=pd.get_dummies(df['type'],prefix='type')\n",
        "\n",
        "#Appending OHE features\n",
        "df  = pd.concat([ohe_type,df],axis=1)\n",
        "df.head()"
      ],
      "metadata": {
        "colab": {
          "base_uri": "https://localhost:8080/"
        },
        "id": "inT10A8g_LFV",
        "outputId": "9f301db8-da6a-4ed6-e8e9-98e0534513be"
      },
      "execution_count": null,
      "outputs": [
        {
          "output_type": "execute_result",
          "data": {
            "text/plain": [
              "    type_CASH_OUT  type_TRANSFER  step      type     amount     nameOrig  \\\n",
              "2               0              1     1  TRANSFER     181.00  C1305486145   \n",
              "3               1              0     1  CASH_OUT     181.00   C840083671   \n",
              "15              1              0     1  CASH_OUT  229133.94   C905080434   \n",
              "19              0              1     1  TRANSFER  215310.30  C1670993182   \n",
              "24              0              1     1  TRANSFER  311685.89  C1984094095   \n",
              "\n",
              "    oldbalanceOrg  newbalanceOrig     nameDest  oldbalanceDest  \\\n",
              "2           181.0             0.0   C553264065             0.0   \n",
              "3           181.0             0.0    C38997010         21182.0   \n",
              "15        15325.0             0.0   C476402209          5083.0   \n",
              "19          705.0             0.0  C1100439041         22425.0   \n",
              "24        10835.0             0.0   C932583850          6267.0   \n",
              "\n",
              "    newbalanceDest  isFraud  isFlaggedFraud  \n",
              "2             0.00        1               0  \n",
              "3             0.00        1               0  \n",
              "15        51513.44        0               0  \n",
              "19            0.00        0               0  \n",
              "24      2719172.89        0               0  "
            ],
            "text/html": [
              "\n",
              "  <div id=\"df-28c63283-554f-4b8a-80b8-eeacb8fb74e3\">\n",
              "    <div class=\"colab-df-container\">\n",
              "      <div>\n",
              "<style scoped>\n",
              "    .dataframe tbody tr th:only-of-type {\n",
              "        vertical-align: middle;\n",
              "    }\n",
              "\n",
              "    .dataframe tbody tr th {\n",
              "        vertical-align: top;\n",
              "    }\n",
              "\n",
              "    .dataframe thead th {\n",
              "        text-align: right;\n",
              "    }\n",
              "</style>\n",
              "<table border=\"1\" class=\"dataframe\">\n",
              "  <thead>\n",
              "    <tr style=\"text-align: right;\">\n",
              "      <th></th>\n",
              "      <th>type_CASH_OUT</th>\n",
              "      <th>type_TRANSFER</th>\n",
              "      <th>step</th>\n",
              "      <th>type</th>\n",
              "      <th>amount</th>\n",
              "      <th>nameOrig</th>\n",
              "      <th>oldbalanceOrg</th>\n",
              "      <th>newbalanceOrig</th>\n",
              "      <th>nameDest</th>\n",
              "      <th>oldbalanceDest</th>\n",
              "      <th>newbalanceDest</th>\n",
              "      <th>isFraud</th>\n",
              "      <th>isFlaggedFraud</th>\n",
              "    </tr>\n",
              "  </thead>\n",
              "  <tbody>\n",
              "    <tr>\n",
              "      <th>2</th>\n",
              "      <td>0</td>\n",
              "      <td>1</td>\n",
              "      <td>1</td>\n",
              "      <td>TRANSFER</td>\n",
              "      <td>181.00</td>\n",
              "      <td>C1305486145</td>\n",
              "      <td>181.0</td>\n",
              "      <td>0.0</td>\n",
              "      <td>C553264065</td>\n",
              "      <td>0.0</td>\n",
              "      <td>0.00</td>\n",
              "      <td>1</td>\n",
              "      <td>0</td>\n",
              "    </tr>\n",
              "    <tr>\n",
              "      <th>3</th>\n",
              "      <td>1</td>\n",
              "      <td>0</td>\n",
              "      <td>1</td>\n",
              "      <td>CASH_OUT</td>\n",
              "      <td>181.00</td>\n",
              "      <td>C840083671</td>\n",
              "      <td>181.0</td>\n",
              "      <td>0.0</td>\n",
              "      <td>C38997010</td>\n",
              "      <td>21182.0</td>\n",
              "      <td>0.00</td>\n",
              "      <td>1</td>\n",
              "      <td>0</td>\n",
              "    </tr>\n",
              "    <tr>\n",
              "      <th>15</th>\n",
              "      <td>1</td>\n",
              "      <td>0</td>\n",
              "      <td>1</td>\n",
              "      <td>CASH_OUT</td>\n",
              "      <td>229133.94</td>\n",
              "      <td>C905080434</td>\n",
              "      <td>15325.0</td>\n",
              "      <td>0.0</td>\n",
              "      <td>C476402209</td>\n",
              "      <td>5083.0</td>\n",
              "      <td>51513.44</td>\n",
              "      <td>0</td>\n",
              "      <td>0</td>\n",
              "    </tr>\n",
              "    <tr>\n",
              "      <th>19</th>\n",
              "      <td>0</td>\n",
              "      <td>1</td>\n",
              "      <td>1</td>\n",
              "      <td>TRANSFER</td>\n",
              "      <td>215310.30</td>\n",
              "      <td>C1670993182</td>\n",
              "      <td>705.0</td>\n",
              "      <td>0.0</td>\n",
              "      <td>C1100439041</td>\n",
              "      <td>22425.0</td>\n",
              "      <td>0.00</td>\n",
              "      <td>0</td>\n",
              "      <td>0</td>\n",
              "    </tr>\n",
              "    <tr>\n",
              "      <th>24</th>\n",
              "      <td>0</td>\n",
              "      <td>1</td>\n",
              "      <td>1</td>\n",
              "      <td>TRANSFER</td>\n",
              "      <td>311685.89</td>\n",
              "      <td>C1984094095</td>\n",
              "      <td>10835.0</td>\n",
              "      <td>0.0</td>\n",
              "      <td>C932583850</td>\n",
              "      <td>6267.0</td>\n",
              "      <td>2719172.89</td>\n",
              "      <td>0</td>\n",
              "      <td>0</td>\n",
              "    </tr>\n",
              "  </tbody>\n",
              "</table>\n",
              "</div>\n",
              "      <button class=\"colab-df-convert\" onclick=\"convertToInteractive('df-28c63283-554f-4b8a-80b8-eeacb8fb74e3')\"\n",
              "              title=\"Convert this dataframe to an interactive table.\"\n",
              "              style=\"display:none;\">\n",
              "        \n",
              "  <svg xmlns=\"http://www.w3.org/2000/svg\" height=\"24px\"viewBox=\"0 0 24 24\"\n",
              "       width=\"24px\">\n",
              "    <path d=\"M0 0h24v24H0V0z\" fill=\"none\"/>\n",
              "    <path d=\"M18.56 5.44l.94 2.06.94-2.06 2.06-.94-2.06-.94-.94-2.06-.94 2.06-2.06.94zm-11 1L8.5 8.5l.94-2.06 2.06-.94-2.06-.94L8.5 2.5l-.94 2.06-2.06.94zm10 10l.94 2.06.94-2.06 2.06-.94-2.06-.94-.94-2.06-.94 2.06-2.06.94z\"/><path d=\"M17.41 7.96l-1.37-1.37c-.4-.4-.92-.59-1.43-.59-.52 0-1.04.2-1.43.59L10.3 9.45l-7.72 7.72c-.78.78-.78 2.05 0 2.83L4 21.41c.39.39.9.59 1.41.59.51 0 1.02-.2 1.41-.59l7.78-7.78 2.81-2.81c.8-.78.8-2.07 0-2.86zM5.41 20L4 18.59l7.72-7.72 1.47 1.35L5.41 20z\"/>\n",
              "  </svg>\n",
              "      </button>\n",
              "      \n",
              "  <style>\n",
              "    .colab-df-container {\n",
              "      display:flex;\n",
              "      flex-wrap:wrap;\n",
              "      gap: 12px;\n",
              "    }\n",
              "\n",
              "    .colab-df-convert {\n",
              "      background-color: #E8F0FE;\n",
              "      border: none;\n",
              "      border-radius: 50%;\n",
              "      cursor: pointer;\n",
              "      display: none;\n",
              "      fill: #1967D2;\n",
              "      height: 32px;\n",
              "      padding: 0 0 0 0;\n",
              "      width: 32px;\n",
              "    }\n",
              "\n",
              "    .colab-df-convert:hover {\n",
              "      background-color: #E2EBFA;\n",
              "      box-shadow: 0px 1px 2px rgba(60, 64, 67, 0.3), 0px 1px 3px 1px rgba(60, 64, 67, 0.15);\n",
              "      fill: #174EA6;\n",
              "    }\n",
              "\n",
              "    [theme=dark] .colab-df-convert {\n",
              "      background-color: #3B4455;\n",
              "      fill: #D2E3FC;\n",
              "    }\n",
              "\n",
              "    [theme=dark] .colab-df-convert:hover {\n",
              "      background-color: #434B5C;\n",
              "      box-shadow: 0px 1px 3px 1px rgba(0, 0, 0, 0.15);\n",
              "      filter: drop-shadow(0px 1px 2px rgba(0, 0, 0, 0.3));\n",
              "      fill: #FFFFFF;\n",
              "    }\n",
              "  </style>\n",
              "\n",
              "      <script>\n",
              "        const buttonEl =\n",
              "          document.querySelector('#df-28c63283-554f-4b8a-80b8-eeacb8fb74e3 button.colab-df-convert');\n",
              "        buttonEl.style.display =\n",
              "          google.colab.kernel.accessAllowed ? 'block' : 'none';\n",
              "\n",
              "        async function convertToInteractive(key) {\n",
              "          const element = document.querySelector('#df-28c63283-554f-4b8a-80b8-eeacb8fb74e3');\n",
              "          const dataTable =\n",
              "            await google.colab.kernel.invokeFunction('convertToInteractive',\n",
              "                                                     [key], {});\n",
              "          if (!dataTable) return;\n",
              "\n",
              "          const docLinkHtml = 'Like what you see? Visit the ' +\n",
              "            '<a target=\"_blank\" href=https://colab.research.google.com/notebooks/data_table.ipynb>data table notebook</a>'\n",
              "            + ' to learn more about interactive tables.';\n",
              "          element.innerHTML = '';\n",
              "          dataTable['output_type'] = 'display_data';\n",
              "          await google.colab.output.renderOutput(dataTable, element);\n",
              "          const docLink = document.createElement('div');\n",
              "          docLink.innerHTML = docLinkHtml;\n",
              "          element.appendChild(docLink);\n",
              "        }\n",
              "      </script>\n",
              "    </div>\n",
              "  </div>\n",
              "  "
            ]
          },
          "metadata": {},
          "execution_count": 43
        }
      ]
    },
    {
      "cell_type": "code",
      "source": [
        "# adding features errorBalanceOrg, errorBalanceDest\n",
        "df[\"errorBalanceOrg\"] = df.newbalanceOrig + df.amount - df.oldbalanceOrg\n",
        "df[\"errorBalanceDest\"] = df.oldbalanceDest + df.amount - df.newbalanceDest\n",
        "df.head()"
      ],
      "metadata": {
        "colab": {
          "base_uri": "https://localhost:8080/"
        },
        "id": "tyC69N9oAIKP",
        "outputId": "cd7c73ed-5a99-4c55-9628-165868490db5"
      },
      "execution_count": null,
      "outputs": [
        {
          "output_type": "execute_result",
          "data": {
            "text/plain": [
              "    type_CASH_OUT  type_TRANSFER  step      type     amount     nameOrig  \\\n",
              "2               0              1     1  TRANSFER     181.00  C1305486145   \n",
              "3               1              0     1  CASH_OUT     181.00   C840083671   \n",
              "15              1              0     1  CASH_OUT  229133.94   C905080434   \n",
              "19              0              1     1  TRANSFER  215310.30  C1670993182   \n",
              "24              0              1     1  TRANSFER  311685.89  C1984094095   \n",
              "\n",
              "    oldbalanceOrg  newbalanceOrig     nameDest  oldbalanceDest  \\\n",
              "2           181.0             0.0   C553264065             0.0   \n",
              "3           181.0             0.0    C38997010         21182.0   \n",
              "15        15325.0             0.0   C476402209          5083.0   \n",
              "19          705.0             0.0  C1100439041         22425.0   \n",
              "24        10835.0             0.0   C932583850          6267.0   \n",
              "\n",
              "    newbalanceDest  isFraud  isFlaggedFraud  errorBalanceOrg  errorBalanceDest  \n",
              "2             0.00        1               0             0.00             181.0  \n",
              "3             0.00        1               0             0.00           21363.0  \n",
              "15        51513.44        0               0        213808.94          182703.5  \n",
              "19            0.00        0               0        214605.30          237735.3  \n",
              "24      2719172.89        0               0        300850.89        -2401220.0  "
            ],
            "text/html": [
              "\n",
              "  <div id=\"df-bc1fc04b-f412-45da-b3fb-56484897b73f\">\n",
              "    <div class=\"colab-df-container\">\n",
              "      <div>\n",
              "<style scoped>\n",
              "    .dataframe tbody tr th:only-of-type {\n",
              "        vertical-align: middle;\n",
              "    }\n",
              "\n",
              "    .dataframe tbody tr th {\n",
              "        vertical-align: top;\n",
              "    }\n",
              "\n",
              "    .dataframe thead th {\n",
              "        text-align: right;\n",
              "    }\n",
              "</style>\n",
              "<table border=\"1\" class=\"dataframe\">\n",
              "  <thead>\n",
              "    <tr style=\"text-align: right;\">\n",
              "      <th></th>\n",
              "      <th>type_CASH_OUT</th>\n",
              "      <th>type_TRANSFER</th>\n",
              "      <th>step</th>\n",
              "      <th>type</th>\n",
              "      <th>amount</th>\n",
              "      <th>nameOrig</th>\n",
              "      <th>oldbalanceOrg</th>\n",
              "      <th>newbalanceOrig</th>\n",
              "      <th>nameDest</th>\n",
              "      <th>oldbalanceDest</th>\n",
              "      <th>newbalanceDest</th>\n",
              "      <th>isFraud</th>\n",
              "      <th>isFlaggedFraud</th>\n",
              "      <th>errorBalanceOrg</th>\n",
              "      <th>errorBalanceDest</th>\n",
              "    </tr>\n",
              "  </thead>\n",
              "  <tbody>\n",
              "    <tr>\n",
              "      <th>2</th>\n",
              "      <td>0</td>\n",
              "      <td>1</td>\n",
              "      <td>1</td>\n",
              "      <td>TRANSFER</td>\n",
              "      <td>181.00</td>\n",
              "      <td>C1305486145</td>\n",
              "      <td>181.0</td>\n",
              "      <td>0.0</td>\n",
              "      <td>C553264065</td>\n",
              "      <td>0.0</td>\n",
              "      <td>0.00</td>\n",
              "      <td>1</td>\n",
              "      <td>0</td>\n",
              "      <td>0.00</td>\n",
              "      <td>181.0</td>\n",
              "    </tr>\n",
              "    <tr>\n",
              "      <th>3</th>\n",
              "      <td>1</td>\n",
              "      <td>0</td>\n",
              "      <td>1</td>\n",
              "      <td>CASH_OUT</td>\n",
              "      <td>181.00</td>\n",
              "      <td>C840083671</td>\n",
              "      <td>181.0</td>\n",
              "      <td>0.0</td>\n",
              "      <td>C38997010</td>\n",
              "      <td>21182.0</td>\n",
              "      <td>0.00</td>\n",
              "      <td>1</td>\n",
              "      <td>0</td>\n",
              "      <td>0.00</td>\n",
              "      <td>21363.0</td>\n",
              "    </tr>\n",
              "    <tr>\n",
              "      <th>15</th>\n",
              "      <td>1</td>\n",
              "      <td>0</td>\n",
              "      <td>1</td>\n",
              "      <td>CASH_OUT</td>\n",
              "      <td>229133.94</td>\n",
              "      <td>C905080434</td>\n",
              "      <td>15325.0</td>\n",
              "      <td>0.0</td>\n",
              "      <td>C476402209</td>\n",
              "      <td>5083.0</td>\n",
              "      <td>51513.44</td>\n",
              "      <td>0</td>\n",
              "      <td>0</td>\n",
              "      <td>213808.94</td>\n",
              "      <td>182703.5</td>\n",
              "    </tr>\n",
              "    <tr>\n",
              "      <th>19</th>\n",
              "      <td>0</td>\n",
              "      <td>1</td>\n",
              "      <td>1</td>\n",
              "      <td>TRANSFER</td>\n",
              "      <td>215310.30</td>\n",
              "      <td>C1670993182</td>\n",
              "      <td>705.0</td>\n",
              "      <td>0.0</td>\n",
              "      <td>C1100439041</td>\n",
              "      <td>22425.0</td>\n",
              "      <td>0.00</td>\n",
              "      <td>0</td>\n",
              "      <td>0</td>\n",
              "      <td>214605.30</td>\n",
              "      <td>237735.3</td>\n",
              "    </tr>\n",
              "    <tr>\n",
              "      <th>24</th>\n",
              "      <td>0</td>\n",
              "      <td>1</td>\n",
              "      <td>1</td>\n",
              "      <td>TRANSFER</td>\n",
              "      <td>311685.89</td>\n",
              "      <td>C1984094095</td>\n",
              "      <td>10835.0</td>\n",
              "      <td>0.0</td>\n",
              "      <td>C932583850</td>\n",
              "      <td>6267.0</td>\n",
              "      <td>2719172.89</td>\n",
              "      <td>0</td>\n",
              "      <td>0</td>\n",
              "      <td>300850.89</td>\n",
              "      <td>-2401220.0</td>\n",
              "    </tr>\n",
              "  </tbody>\n",
              "</table>\n",
              "</div>\n",
              "      <button class=\"colab-df-convert\" onclick=\"convertToInteractive('df-bc1fc04b-f412-45da-b3fb-56484897b73f')\"\n",
              "              title=\"Convert this dataframe to an interactive table.\"\n",
              "              style=\"display:none;\">\n",
              "        \n",
              "  <svg xmlns=\"http://www.w3.org/2000/svg\" height=\"24px\"viewBox=\"0 0 24 24\"\n",
              "       width=\"24px\">\n",
              "    <path d=\"M0 0h24v24H0V0z\" fill=\"none\"/>\n",
              "    <path d=\"M18.56 5.44l.94 2.06.94-2.06 2.06-.94-2.06-.94-.94-2.06-.94 2.06-2.06.94zm-11 1L8.5 8.5l.94-2.06 2.06-.94-2.06-.94L8.5 2.5l-.94 2.06-2.06.94zm10 10l.94 2.06.94-2.06 2.06-.94-2.06-.94-.94-2.06-.94 2.06-2.06.94z\"/><path d=\"M17.41 7.96l-1.37-1.37c-.4-.4-.92-.59-1.43-.59-.52 0-1.04.2-1.43.59L10.3 9.45l-7.72 7.72c-.78.78-.78 2.05 0 2.83L4 21.41c.39.39.9.59 1.41.59.51 0 1.02-.2 1.41-.59l7.78-7.78 2.81-2.81c.8-.78.8-2.07 0-2.86zM5.41 20L4 18.59l7.72-7.72 1.47 1.35L5.41 20z\"/>\n",
              "  </svg>\n",
              "      </button>\n",
              "      \n",
              "  <style>\n",
              "    .colab-df-container {\n",
              "      display:flex;\n",
              "      flex-wrap:wrap;\n",
              "      gap: 12px;\n",
              "    }\n",
              "\n",
              "    .colab-df-convert {\n",
              "      background-color: #E8F0FE;\n",
              "      border: none;\n",
              "      border-radius: 50%;\n",
              "      cursor: pointer;\n",
              "      display: none;\n",
              "      fill: #1967D2;\n",
              "      height: 32px;\n",
              "      padding: 0 0 0 0;\n",
              "      width: 32px;\n",
              "    }\n",
              "\n",
              "    .colab-df-convert:hover {\n",
              "      background-color: #E2EBFA;\n",
              "      box-shadow: 0px 1px 2px rgba(60, 64, 67, 0.3), 0px 1px 3px 1px rgba(60, 64, 67, 0.15);\n",
              "      fill: #174EA6;\n",
              "    }\n",
              "\n",
              "    [theme=dark] .colab-df-convert {\n",
              "      background-color: #3B4455;\n",
              "      fill: #D2E3FC;\n",
              "    }\n",
              "\n",
              "    [theme=dark] .colab-df-convert:hover {\n",
              "      background-color: #434B5C;\n",
              "      box-shadow: 0px 1px 3px 1px rgba(0, 0, 0, 0.15);\n",
              "      filter: drop-shadow(0px 1px 2px rgba(0, 0, 0, 0.3));\n",
              "      fill: #FFFFFF;\n",
              "    }\n",
              "  </style>\n",
              "\n",
              "      <script>\n",
              "        const buttonEl =\n",
              "          document.querySelector('#df-bc1fc04b-f412-45da-b3fb-56484897b73f button.colab-df-convert');\n",
              "        buttonEl.style.display =\n",
              "          google.colab.kernel.accessAllowed ? 'block' : 'none';\n",
              "\n",
              "        async function convertToInteractive(key) {\n",
              "          const element = document.querySelector('#df-bc1fc04b-f412-45da-b3fb-56484897b73f');\n",
              "          const dataTable =\n",
              "            await google.colab.kernel.invokeFunction('convertToInteractive',\n",
              "                                                     [key], {});\n",
              "          if (!dataTable) return;\n",
              "\n",
              "          const docLinkHtml = 'Like what you see? Visit the ' +\n",
              "            '<a target=\"_blank\" href=https://colab.research.google.com/notebooks/data_table.ipynb>data table notebook</a>'\n",
              "            + ' to learn more about interactive tables.';\n",
              "          element.innerHTML = '';\n",
              "          dataTable['output_type'] = 'display_data';\n",
              "          await google.colab.output.renderOutput(dataTable, element);\n",
              "          const docLink = document.createElement('div');\n",
              "          docLink.innerHTML = docLinkHtml;\n",
              "          element.appendChild(docLink);\n",
              "        }\n",
              "      </script>\n",
              "    </div>\n",
              "  </div>\n",
              "  "
            ]
          },
          "metadata": {},
          "execution_count": 44
        }
      ]
    },
    {
      "cell_type": "code",
      "source": [
        "# Hour_Of_Day time step feature\n",
        "df[\"Hour_Of_Day\"]= df.step % 24\n",
        "\n",
        "df.tail()"
      ],
      "metadata": {
        "colab": {
          "base_uri": "https://localhost:8080/"
        },
        "id": "YBNEdGnrFF3h",
        "outputId": "882ecd56-deb2-4cdf-b2e3-540293cccab6"
      },
      "execution_count": null,
      "outputs": [
        {
          "output_type": "execute_result",
          "data": {
            "text/plain": [
              "         type_CASH_OUT  type_TRANSFER  step      type      amount  \\\n",
              "6362615              1              0   743  CASH_OUT   339682.13   \n",
              "6362616              0              1   743  TRANSFER  6311409.28   \n",
              "6362617              1              0   743  CASH_OUT  6311409.28   \n",
              "6362618              0              1   743  TRANSFER   850002.52   \n",
              "6362619              1              0   743  CASH_OUT   850002.52   \n",
              "\n",
              "            nameOrig  oldbalanceOrg  newbalanceOrig     nameDest  \\\n",
              "6362615   C786484425      339682.13             0.0   C776919290   \n",
              "6362616  C1529008245     6311409.28             0.0  C1881841831   \n",
              "6362617  C1162922333     6311409.28             0.0  C1365125890   \n",
              "6362618  C1685995037      850002.52             0.0  C2080388513   \n",
              "6362619  C1280323807      850002.52             0.0   C873221189   \n",
              "\n",
              "         oldbalanceDest  newbalanceDest  isFraud  isFlaggedFraud  \\\n",
              "6362615            0.00       339682.13        1               0   \n",
              "6362616            0.00            0.00        1               0   \n",
              "6362617        68488.84      6379898.11        1               0   \n",
              "6362618            0.00            0.00        1               0   \n",
              "6362619      6510099.11      7360101.63        1               0   \n",
              "\n",
              "         errorBalanceOrg  errorBalanceDest  Hour_Of_Day  \n",
              "6362615              0.0      0.000000e+00           23  \n",
              "6362616              0.0      6.311409e+06           23  \n",
              "6362617              0.0      1.000000e-02           23  \n",
              "6362618              0.0      8.500025e+05           23  \n",
              "6362619              0.0      9.313226e-10           23  "
            ],
            "text/html": [
              "\n",
              "  <div id=\"df-1b602612-b40a-438d-8972-3af63163b7fd\">\n",
              "    <div class=\"colab-df-container\">\n",
              "      <div>\n",
              "<style scoped>\n",
              "    .dataframe tbody tr th:only-of-type {\n",
              "        vertical-align: middle;\n",
              "    }\n",
              "\n",
              "    .dataframe tbody tr th {\n",
              "        vertical-align: top;\n",
              "    }\n",
              "\n",
              "    .dataframe thead th {\n",
              "        text-align: right;\n",
              "    }\n",
              "</style>\n",
              "<table border=\"1\" class=\"dataframe\">\n",
              "  <thead>\n",
              "    <tr style=\"text-align: right;\">\n",
              "      <th></th>\n",
              "      <th>type_CASH_OUT</th>\n",
              "      <th>type_TRANSFER</th>\n",
              "      <th>step</th>\n",
              "      <th>type</th>\n",
              "      <th>amount</th>\n",
              "      <th>nameOrig</th>\n",
              "      <th>oldbalanceOrg</th>\n",
              "      <th>newbalanceOrig</th>\n",
              "      <th>nameDest</th>\n",
              "      <th>oldbalanceDest</th>\n",
              "      <th>newbalanceDest</th>\n",
              "      <th>isFraud</th>\n",
              "      <th>isFlaggedFraud</th>\n",
              "      <th>errorBalanceOrg</th>\n",
              "      <th>errorBalanceDest</th>\n",
              "      <th>Hour_Of_Day</th>\n",
              "    </tr>\n",
              "  </thead>\n",
              "  <tbody>\n",
              "    <tr>\n",
              "      <th>6362615</th>\n",
              "      <td>1</td>\n",
              "      <td>0</td>\n",
              "      <td>743</td>\n",
              "      <td>CASH_OUT</td>\n",
              "      <td>339682.13</td>\n",
              "      <td>C786484425</td>\n",
              "      <td>339682.13</td>\n",
              "      <td>0.0</td>\n",
              "      <td>C776919290</td>\n",
              "      <td>0.00</td>\n",
              "      <td>339682.13</td>\n",
              "      <td>1</td>\n",
              "      <td>0</td>\n",
              "      <td>0.0</td>\n",
              "      <td>0.000000e+00</td>\n",
              "      <td>23</td>\n",
              "    </tr>\n",
              "    <tr>\n",
              "      <th>6362616</th>\n",
              "      <td>0</td>\n",
              "      <td>1</td>\n",
              "      <td>743</td>\n",
              "      <td>TRANSFER</td>\n",
              "      <td>6311409.28</td>\n",
              "      <td>C1529008245</td>\n",
              "      <td>6311409.28</td>\n",
              "      <td>0.0</td>\n",
              "      <td>C1881841831</td>\n",
              "      <td>0.00</td>\n",
              "      <td>0.00</td>\n",
              "      <td>1</td>\n",
              "      <td>0</td>\n",
              "      <td>0.0</td>\n",
              "      <td>6.311409e+06</td>\n",
              "      <td>23</td>\n",
              "    </tr>\n",
              "    <tr>\n",
              "      <th>6362617</th>\n",
              "      <td>1</td>\n",
              "      <td>0</td>\n",
              "      <td>743</td>\n",
              "      <td>CASH_OUT</td>\n",
              "      <td>6311409.28</td>\n",
              "      <td>C1162922333</td>\n",
              "      <td>6311409.28</td>\n",
              "      <td>0.0</td>\n",
              "      <td>C1365125890</td>\n",
              "      <td>68488.84</td>\n",
              "      <td>6379898.11</td>\n",
              "      <td>1</td>\n",
              "      <td>0</td>\n",
              "      <td>0.0</td>\n",
              "      <td>1.000000e-02</td>\n",
              "      <td>23</td>\n",
              "    </tr>\n",
              "    <tr>\n",
              "      <th>6362618</th>\n",
              "      <td>0</td>\n",
              "      <td>1</td>\n",
              "      <td>743</td>\n",
              "      <td>TRANSFER</td>\n",
              "      <td>850002.52</td>\n",
              "      <td>C1685995037</td>\n",
              "      <td>850002.52</td>\n",
              "      <td>0.0</td>\n",
              "      <td>C2080388513</td>\n",
              "      <td>0.00</td>\n",
              "      <td>0.00</td>\n",
              "      <td>1</td>\n",
              "      <td>0</td>\n",
              "      <td>0.0</td>\n",
              "      <td>8.500025e+05</td>\n",
              "      <td>23</td>\n",
              "    </tr>\n",
              "    <tr>\n",
              "      <th>6362619</th>\n",
              "      <td>1</td>\n",
              "      <td>0</td>\n",
              "      <td>743</td>\n",
              "      <td>CASH_OUT</td>\n",
              "      <td>850002.52</td>\n",
              "      <td>C1280323807</td>\n",
              "      <td>850002.52</td>\n",
              "      <td>0.0</td>\n",
              "      <td>C873221189</td>\n",
              "      <td>6510099.11</td>\n",
              "      <td>7360101.63</td>\n",
              "      <td>1</td>\n",
              "      <td>0</td>\n",
              "      <td>0.0</td>\n",
              "      <td>9.313226e-10</td>\n",
              "      <td>23</td>\n",
              "    </tr>\n",
              "  </tbody>\n",
              "</table>\n",
              "</div>\n",
              "      <button class=\"colab-df-convert\" onclick=\"convertToInteractive('df-1b602612-b40a-438d-8972-3af63163b7fd')\"\n",
              "              title=\"Convert this dataframe to an interactive table.\"\n",
              "              style=\"display:none;\">\n",
              "        \n",
              "  <svg xmlns=\"http://www.w3.org/2000/svg\" height=\"24px\"viewBox=\"0 0 24 24\"\n",
              "       width=\"24px\">\n",
              "    <path d=\"M0 0h24v24H0V0z\" fill=\"none\"/>\n",
              "    <path d=\"M18.56 5.44l.94 2.06.94-2.06 2.06-.94-2.06-.94-.94-2.06-.94 2.06-2.06.94zm-11 1L8.5 8.5l.94-2.06 2.06-.94-2.06-.94L8.5 2.5l-.94 2.06-2.06.94zm10 10l.94 2.06.94-2.06 2.06-.94-2.06-.94-.94-2.06-.94 2.06-2.06.94z\"/><path d=\"M17.41 7.96l-1.37-1.37c-.4-.4-.92-.59-1.43-.59-.52 0-1.04.2-1.43.59L10.3 9.45l-7.72 7.72c-.78.78-.78 2.05 0 2.83L4 21.41c.39.39.9.59 1.41.59.51 0 1.02-.2 1.41-.59l7.78-7.78 2.81-2.81c.8-.78.8-2.07 0-2.86zM5.41 20L4 18.59l7.72-7.72 1.47 1.35L5.41 20z\"/>\n",
              "  </svg>\n",
              "      </button>\n",
              "      \n",
              "  <style>\n",
              "    .colab-df-container {\n",
              "      display:flex;\n",
              "      flex-wrap:wrap;\n",
              "      gap: 12px;\n",
              "    }\n",
              "\n",
              "    .colab-df-convert {\n",
              "      background-color: #E8F0FE;\n",
              "      border: none;\n",
              "      border-radius: 50%;\n",
              "      cursor: pointer;\n",
              "      display: none;\n",
              "      fill: #1967D2;\n",
              "      height: 32px;\n",
              "      padding: 0 0 0 0;\n",
              "      width: 32px;\n",
              "    }\n",
              "\n",
              "    .colab-df-convert:hover {\n",
              "      background-color: #E2EBFA;\n",
              "      box-shadow: 0px 1px 2px rgba(60, 64, 67, 0.3), 0px 1px 3px 1px rgba(60, 64, 67, 0.15);\n",
              "      fill: #174EA6;\n",
              "    }\n",
              "\n",
              "    [theme=dark] .colab-df-convert {\n",
              "      background-color: #3B4455;\n",
              "      fill: #D2E3FC;\n",
              "    }\n",
              "\n",
              "    [theme=dark] .colab-df-convert:hover {\n",
              "      background-color: #434B5C;\n",
              "      box-shadow: 0px 1px 3px 1px rgba(0, 0, 0, 0.15);\n",
              "      filter: drop-shadow(0px 1px 2px rgba(0, 0, 0, 0.3));\n",
              "      fill: #FFFFFF;\n",
              "    }\n",
              "  </style>\n",
              "\n",
              "      <script>\n",
              "        const buttonEl =\n",
              "          document.querySelector('#df-1b602612-b40a-438d-8972-3af63163b7fd button.colab-df-convert');\n",
              "        buttonEl.style.display =\n",
              "          google.colab.kernel.accessAllowed ? 'block' : 'none';\n",
              "\n",
              "        async function convertToInteractive(key) {\n",
              "          const element = document.querySelector('#df-1b602612-b40a-438d-8972-3af63163b7fd');\n",
              "          const dataTable =\n",
              "            await google.colab.kernel.invokeFunction('convertToInteractive',\n",
              "                                                     [key], {});\n",
              "          if (!dataTable) return;\n",
              "\n",
              "          const docLinkHtml = 'Like what you see? Visit the ' +\n",
              "            '<a target=\"_blank\" href=https://colab.research.google.com/notebooks/data_table.ipynb>data table notebook</a>'\n",
              "            + ' to learn more about interactive tables.';\n",
              "          element.innerHTML = '';\n",
              "          dataTable['output_type'] = 'display_data';\n",
              "          await google.colab.output.renderOutput(dataTable, element);\n",
              "          const docLink = document.createElement('div');\n",
              "          docLink.innerHTML = docLinkHtml;\n",
              "          element.appendChild(docLink);\n",
              "        }\n",
              "      </script>\n",
              "    </div>\n",
              "  </div>\n",
              "  "
            ]
          },
          "metadata": {},
          "execution_count": 45
        }
      ]
    },
    {
      "cell_type": "code",
      "source": [
        "#Droping Features\n",
        "df = df.drop(['isFlaggedFraud','nameOrig','nameDest','type'],axis=1)\n",
        "df.head()"
      ],
      "metadata": {
        "colab": {
          "base_uri": "https://localhost:8080/"
        },
        "id": "BlYKLUqsGzbA",
        "outputId": "d7fe325a-b5d7-4842-8d45-3f65fd5343c8"
      },
      "execution_count": null,
      "outputs": [
        {
          "output_type": "execute_result",
          "data": {
            "text/plain": [
              "    type_CASH_OUT  type_TRANSFER  step     amount  oldbalanceOrg  \\\n",
              "2               0              1     1     181.00          181.0   \n",
              "3               1              0     1     181.00          181.0   \n",
              "15              1              0     1  229133.94        15325.0   \n",
              "19              0              1     1  215310.30          705.0   \n",
              "24              0              1     1  311685.89        10835.0   \n",
              "\n",
              "    newbalanceOrig  oldbalanceDest  newbalanceDest  isFraud  errorBalanceOrg  \\\n",
              "2              0.0             0.0            0.00        1             0.00   \n",
              "3              0.0         21182.0            0.00        1             0.00   \n",
              "15             0.0          5083.0        51513.44        0        213808.94   \n",
              "19             0.0         22425.0            0.00        0        214605.30   \n",
              "24             0.0          6267.0      2719172.89        0        300850.89   \n",
              "\n",
              "    errorBalanceDest  Hour_Of_Day  \n",
              "2              181.0            1  \n",
              "3            21363.0            1  \n",
              "15          182703.5            1  \n",
              "19          237735.3            1  \n",
              "24        -2401220.0            1  "
            ],
            "text/html": [
              "\n",
              "  <div id=\"df-aa88ad4c-120d-4516-8c4e-9e5392e0c0d8\">\n",
              "    <div class=\"colab-df-container\">\n",
              "      <div>\n",
              "<style scoped>\n",
              "    .dataframe tbody tr th:only-of-type {\n",
              "        vertical-align: middle;\n",
              "    }\n",
              "\n",
              "    .dataframe tbody tr th {\n",
              "        vertical-align: top;\n",
              "    }\n",
              "\n",
              "    .dataframe thead th {\n",
              "        text-align: right;\n",
              "    }\n",
              "</style>\n",
              "<table border=\"1\" class=\"dataframe\">\n",
              "  <thead>\n",
              "    <tr style=\"text-align: right;\">\n",
              "      <th></th>\n",
              "      <th>type_CASH_OUT</th>\n",
              "      <th>type_TRANSFER</th>\n",
              "      <th>step</th>\n",
              "      <th>amount</th>\n",
              "      <th>oldbalanceOrg</th>\n",
              "      <th>newbalanceOrig</th>\n",
              "      <th>oldbalanceDest</th>\n",
              "      <th>newbalanceDest</th>\n",
              "      <th>isFraud</th>\n",
              "      <th>errorBalanceOrg</th>\n",
              "      <th>errorBalanceDest</th>\n",
              "      <th>Hour_Of_Day</th>\n",
              "    </tr>\n",
              "  </thead>\n",
              "  <tbody>\n",
              "    <tr>\n",
              "      <th>2</th>\n",
              "      <td>0</td>\n",
              "      <td>1</td>\n",
              "      <td>1</td>\n",
              "      <td>181.00</td>\n",
              "      <td>181.0</td>\n",
              "      <td>0.0</td>\n",
              "      <td>0.0</td>\n",
              "      <td>0.00</td>\n",
              "      <td>1</td>\n",
              "      <td>0.00</td>\n",
              "      <td>181.0</td>\n",
              "      <td>1</td>\n",
              "    </tr>\n",
              "    <tr>\n",
              "      <th>3</th>\n",
              "      <td>1</td>\n",
              "      <td>0</td>\n",
              "      <td>1</td>\n",
              "      <td>181.00</td>\n",
              "      <td>181.0</td>\n",
              "      <td>0.0</td>\n",
              "      <td>21182.0</td>\n",
              "      <td>0.00</td>\n",
              "      <td>1</td>\n",
              "      <td>0.00</td>\n",
              "      <td>21363.0</td>\n",
              "      <td>1</td>\n",
              "    </tr>\n",
              "    <tr>\n",
              "      <th>15</th>\n",
              "      <td>1</td>\n",
              "      <td>0</td>\n",
              "      <td>1</td>\n",
              "      <td>229133.94</td>\n",
              "      <td>15325.0</td>\n",
              "      <td>0.0</td>\n",
              "      <td>5083.0</td>\n",
              "      <td>51513.44</td>\n",
              "      <td>0</td>\n",
              "      <td>213808.94</td>\n",
              "      <td>182703.5</td>\n",
              "      <td>1</td>\n",
              "    </tr>\n",
              "    <tr>\n",
              "      <th>19</th>\n",
              "      <td>0</td>\n",
              "      <td>1</td>\n",
              "      <td>1</td>\n",
              "      <td>215310.30</td>\n",
              "      <td>705.0</td>\n",
              "      <td>0.0</td>\n",
              "      <td>22425.0</td>\n",
              "      <td>0.00</td>\n",
              "      <td>0</td>\n",
              "      <td>214605.30</td>\n",
              "      <td>237735.3</td>\n",
              "      <td>1</td>\n",
              "    </tr>\n",
              "    <tr>\n",
              "      <th>24</th>\n",
              "      <td>0</td>\n",
              "      <td>1</td>\n",
              "      <td>1</td>\n",
              "      <td>311685.89</td>\n",
              "      <td>10835.0</td>\n",
              "      <td>0.0</td>\n",
              "      <td>6267.0</td>\n",
              "      <td>2719172.89</td>\n",
              "      <td>0</td>\n",
              "      <td>300850.89</td>\n",
              "      <td>-2401220.0</td>\n",
              "      <td>1</td>\n",
              "    </tr>\n",
              "  </tbody>\n",
              "</table>\n",
              "</div>\n",
              "      <button class=\"colab-df-convert\" onclick=\"convertToInteractive('df-aa88ad4c-120d-4516-8c4e-9e5392e0c0d8')\"\n",
              "              title=\"Convert this dataframe to an interactive table.\"\n",
              "              style=\"display:none;\">\n",
              "        \n",
              "  <svg xmlns=\"http://www.w3.org/2000/svg\" height=\"24px\"viewBox=\"0 0 24 24\"\n",
              "       width=\"24px\">\n",
              "    <path d=\"M0 0h24v24H0V0z\" fill=\"none\"/>\n",
              "    <path d=\"M18.56 5.44l.94 2.06.94-2.06 2.06-.94-2.06-.94-.94-2.06-.94 2.06-2.06.94zm-11 1L8.5 8.5l.94-2.06 2.06-.94-2.06-.94L8.5 2.5l-.94 2.06-2.06.94zm10 10l.94 2.06.94-2.06 2.06-.94-2.06-.94-.94-2.06-.94 2.06-2.06.94z\"/><path d=\"M17.41 7.96l-1.37-1.37c-.4-.4-.92-.59-1.43-.59-.52 0-1.04.2-1.43.59L10.3 9.45l-7.72 7.72c-.78.78-.78 2.05 0 2.83L4 21.41c.39.39.9.59 1.41.59.51 0 1.02-.2 1.41-.59l7.78-7.78 2.81-2.81c.8-.78.8-2.07 0-2.86zM5.41 20L4 18.59l7.72-7.72 1.47 1.35L5.41 20z\"/>\n",
              "  </svg>\n",
              "      </button>\n",
              "      \n",
              "  <style>\n",
              "    .colab-df-container {\n",
              "      display:flex;\n",
              "      flex-wrap:wrap;\n",
              "      gap: 12px;\n",
              "    }\n",
              "\n",
              "    .colab-df-convert {\n",
              "      background-color: #E8F0FE;\n",
              "      border: none;\n",
              "      border-radius: 50%;\n",
              "      cursor: pointer;\n",
              "      display: none;\n",
              "      fill: #1967D2;\n",
              "      height: 32px;\n",
              "      padding: 0 0 0 0;\n",
              "      width: 32px;\n",
              "    }\n",
              "\n",
              "    .colab-df-convert:hover {\n",
              "      background-color: #E2EBFA;\n",
              "      box-shadow: 0px 1px 2px rgba(60, 64, 67, 0.3), 0px 1px 3px 1px rgba(60, 64, 67, 0.15);\n",
              "      fill: #174EA6;\n",
              "    }\n",
              "\n",
              "    [theme=dark] .colab-df-convert {\n",
              "      background-color: #3B4455;\n",
              "      fill: #D2E3FC;\n",
              "    }\n",
              "\n",
              "    [theme=dark] .colab-df-convert:hover {\n",
              "      background-color: #434B5C;\n",
              "      box-shadow: 0px 1px 3px 1px rgba(0, 0, 0, 0.15);\n",
              "      filter: drop-shadow(0px 1px 2px rgba(0, 0, 0, 0.3));\n",
              "      fill: #FFFFFF;\n",
              "    }\n",
              "  </style>\n",
              "\n",
              "      <script>\n",
              "        const buttonEl =\n",
              "          document.querySelector('#df-aa88ad4c-120d-4516-8c4e-9e5392e0c0d8 button.colab-df-convert');\n",
              "        buttonEl.style.display =\n",
              "          google.colab.kernel.accessAllowed ? 'block' : 'none';\n",
              "\n",
              "        async function convertToInteractive(key) {\n",
              "          const element = document.querySelector('#df-aa88ad4c-120d-4516-8c4e-9e5392e0c0d8');\n",
              "          const dataTable =\n",
              "            await google.colab.kernel.invokeFunction('convertToInteractive',\n",
              "                                                     [key], {});\n",
              "          if (!dataTable) return;\n",
              "\n",
              "          const docLinkHtml = 'Like what you see? Visit the ' +\n",
              "            '<a target=\"_blank\" href=https://colab.research.google.com/notebooks/data_table.ipynb>data table notebook</a>'\n",
              "            + ' to learn more about interactive tables.';\n",
              "          element.innerHTML = '';\n",
              "          dataTable['output_type'] = 'display_data';\n",
              "          await google.colab.output.renderOutput(dataTable, element);\n",
              "          const docLink = document.createElement('div');\n",
              "          docLink.innerHTML = docLinkHtml;\n",
              "          element.appendChild(docLink);\n",
              "        }\n",
              "      </script>\n",
              "    </div>\n",
              "  </div>\n",
              "  "
            ]
          },
          "metadata": {},
          "execution_count": 46
        }
      ]
    },
    {
      "cell_type": "code",
      "source": [
        "#print\n",
        "df.shape"
      ],
      "metadata": {
        "colab": {
          "base_uri": "https://localhost:8080/"
        },
        "id": "xcoG_rQYGhw0",
        "outputId": "fecd22de-d552-464d-8453-13b3edb6a555"
      },
      "execution_count": null,
      "outputs": [
        {
          "output_type": "execute_result",
          "data": {
            "text/plain": [
              "(2770409, 12)"
            ]
          },
          "metadata": {},
          "execution_count": 47
        }
      ]
    },
    {
      "cell_type": "markdown",
      "source": [
        "## Splitting Data"
      ],
      "metadata": {
        "id": "oTR_SH63HHRy"
      }
    },
    {
      "cell_type": "code",
      "source": [
        "#Splitting the data\n",
        "X = df.drop(['isFraud'],axis=1)\n",
        "y = df['isFraud']\n",
        "X_train, X_test, y_train, y_test = train_test_split(X, y,stratify=y,random_state=42)"
      ],
      "metadata": {
        "id": "otRJDRAPHJOv"
      },
      "execution_count": null,
      "outputs": []
    },
    {
      "cell_type": "code",
      "source": [
        "# np.unique(y,return_counts=True)\n",
        "# np.unique(y_test,return_counts=True)"
      ],
      "metadata": {
        "id": "thq3bWWsQmCV"
      },
      "execution_count": null,
      "outputs": []
    },
    {
      "cell_type": "markdown",
      "source": [
        "## Standardizing the data"
      ],
      "metadata": {
        "id": "GygD_P-6G7Ma"
      }
    },
    {
      "cell_type": "code",
      "source": [
        "# Normalizing data so that all variables follow the same scale (0 to 1)\n",
        "std = StandardScaler()\n",
        "\n",
        "# Fit only to the training data\n",
        "std.fit(X_train)\n",
        "\n",
        "# Now apply the transformations to the data:\n",
        "X_train = std.transform(X_train)\n",
        "X_test = std.transform(X_test)"
      ],
      "metadata": {
        "id": "ijHo1vhuG9hg"
      },
      "execution_count": null,
      "outputs": []
    },
    {
      "cell_type": "markdown",
      "source": [
        "#### Confusion Matrix Plot function"
      ],
      "metadata": {
        "id": "vvvK0TaLSKwM"
      }
    },
    {
      "cell_type": "code",
      "source": [
        "def CM_plotter(predictions_train,predictions_test):\n",
        "  group_names = ['TN','FP','FN','TP']\n",
        "\n",
        "  #creating arrays\n",
        "  cm_train = np.array(confusion_matrix(y_train, predictions_train))\n",
        "  cm_test = np.array(confusion_matrix(y_test, predictions_test))\n",
        "    \n",
        "\n",
        "  fig = plt.figure(figsize=(10,4))\n",
        "\n",
        "  #Train\n",
        "\n",
        "  group_counts = ['{}'.format(value) for value in cm_train.flatten()]\n",
        "  group_percentages = ['{0:.2%}'.format(value) for value in cm_train.flatten()/np.sum(cm_train)]\n",
        "  labels = [f'{v1}\\n{v2}\\n{v3}' for v1, v2, v3 in zip(group_names,group_counts,group_percentages)]\n",
        "  labels = np.asarray(labels).reshape(2,2)\n",
        "\n",
        "  plt.subplot(1,2,1)\n",
        "  sns.heatmap(cm_train, annot=labels,fmt='',cmap='Blues')\n",
        "  plt.title('Train_RF')\n",
        "  plt.xlabel('pred')\n",
        "  plt.ylabel('true')\n",
        "  fig.tight_layout()\n",
        "  # plt.show()\n",
        "\n",
        "  #Test\n",
        "  group_counts = ['{}'.format(value) for value in cm_test.flatten()]\n",
        "  group_percentages = ['{0:.2%}'.format(value) for value in cm_test.flatten()/np.sum(cm_test)]\n",
        "  labels = [f'{v1}\\n{v2}\\n{v3}' for v1, v2, v3 in zip(group_names,group_counts,group_percentages)]\n",
        "  labels = np.asarray(labels).reshape(2,2)\n",
        "\n",
        "  plt.subplot(1,2,2)\n",
        "  sns.heatmap(cm_test, annot=labels,fmt='',cmap='Blues')\n",
        "  plt.title('Test_RF')\n",
        "  plt.xlabel('pred')\n",
        "  plt.ylabel('true')\n",
        "  fig.tight_layout()\n",
        "  plt.show()"
      ],
      "metadata": {
        "id": "sXXRRtYBSRc3"
      },
      "execution_count": null,
      "outputs": []
    },
    {
      "cell_type": "markdown",
      "source": [
        "# **3. Models**"
      ],
      "metadata": {
        "id": "NuLQvySpLijO"
      }
    },
    {
      "cell_type": "markdown",
      "source": [
        "## 1. Logistic regression"
      ],
      "metadata": {
        "id": "by2z1e3qH-Xy"
      }
    },
    {
      "cell_type": "markdown",
      "source": [
        "### GridSearchCV"
      ],
      "metadata": {
        "id": "wvb6i8vfWEpD"
      }
    },
    {
      "cell_type": "code",
      "source": [
        "#parameters\n",
        "parameters = {'C' :[0.001,0.01,1,10]}\n",
        "log_reg = LogisticRegression(class_weight='balanced',penalty='l2')"
      ],
      "metadata": {
        "id": "iJ5uYvuLG_x6"
      },
      "execution_count": null,
      "outputs": []
    },
    {
      "cell_type": "code",
      "source": [
        "#Tunning Log Regression using GridSearchCV\n",
        "gridcv = GridSearchCV(log_reg,param_grid=parameters,cv=5,scoring='roc_auc',return_train_score=True)"
      ],
      "metadata": {
        "id": "Dt72gf-yHfX0"
      },
      "execution_count": null,
      "outputs": []
    },
    {
      "cell_type": "code",
      "source": [
        "#Fitting on data || Train Time = 4min\n",
        "gridcv.fit(X_train,y_train)"
      ],
      "metadata": {
        "colab": {
          "base_uri": "https://localhost:8080/"
        },
        "id": "SiM-EhNkHgFf",
        "outputId": "6d566efc-2136-434b-e7b4-2ee0fa26d0a6"
      },
      "execution_count": null,
      "outputs": [
        {
          "output_type": "execute_result",
          "data": {
            "text/plain": [
              "GridSearchCV(cv=5, estimator=LogisticRegression(class_weight='balanced'),\n",
              "             param_grid={'C': [0.001, 0.01, 1, 10]}, return_train_score=True,\n",
              "             scoring='roc_auc')"
            ]
          },
          "metadata": {},
          "execution_count": 54
        }
      ]
    },
    {
      "cell_type": "code",
      "source": [
        "#extracting results of GridCV\n",
        "roc_auc_score_train= gridcv.cv_results_['mean_train_score']\n",
        "train_auc_std= gridcv.cv_results_['std_train_score']\n",
        "roc_auc_score_cv = gridcv.cv_results_['mean_test_score']\n",
        "cv_auc_std= gridcv.cv_results_['std_test_score']\n",
        "\n",
        "#storing best parameters\n",
        "best_C=gridcv.best_params_['C']\n",
        "# best_C=gridcv.best_params_['alpha']\n",
        "best_score=gridcv.best_score_"
      ],
      "metadata": {
        "id": "vcOC5aTsHulL"
      },
      "execution_count": null,
      "outputs": []
    },
    {
      "cell_type": "code",
      "source": [
        "print(\"BEST parameters C: \",gridcv.best_params_['C'],\" BEST SCORE: \",gridcv.best_score_)\n",
        "# print(\"BEST C: \",gridcv.best_params_['alpha'],\" BEST SCORE: \",gridcv.best_score_)"
      ],
      "metadata": {
        "colab": {
          "base_uri": "https://localhost:8080/"
        },
        "id": "l0zy1eqJJiVt",
        "outputId": "458d8289-9e41-4449-fd91-60b61fcbb292"
      },
      "execution_count": null,
      "outputs": [
        {
          "output_type": "stream",
          "name": "stdout",
          "text": [
            "BEST parameters C:  10  BEST SCORE:  0.9788725444767865\n"
          ]
        }
      ]
    },
    {
      "cell_type": "code",
      "source": [
        "C = [0.001,0.01,1,10]\n",
        "plt.plot(C, roc_auc_score_train, label='Train AUC')\n",
        "plt.plot(C, roc_auc_score_cv, label='CV AUC')\n",
        "plt.scatter(C, roc_auc_score_train, label='Train AUC points')\n",
        "plt.scatter(C, roc_auc_score_cv, label='CV AUC points')\n",
        "plt.legend()\n",
        "plt.xlabel(\"C\")\n",
        "plt.ylabel(\"AUC\")\n",
        "plt.title(\"AUC vs C\")\n",
        "plt.grid()\n",
        "plt.show()"
      ],
      "metadata": {
        "colab": {
          "base_uri": "https://localhost:8080/",
          "height": 295
        },
        "id": "MUKdfgJRHvW0",
        "outputId": "3f739376-b6ab-481d-9f2b-0302847a8808"
      },
      "execution_count": null,
      "outputs": [
        {
          "output_type": "display_data",
          "data": {
            "text/plain": [
              "<Figure size 432x288 with 1 Axes>"
            ],
            "image/png": "[encoded data removed]"
          },
          "metadata": {
            "needs_background": "light"
          }
        }
      ]
    },
    {
      "cell_type": "markdown",
      "source": [
        "### Training LR model on best parameters"
      ],
      "metadata": {
        "id": "dYJzqVZOIJla"
      }
    },
    {
      "cell_type": "code",
      "source": [
        "# Train time = 15 sec\n",
        "log_reg_best = LogisticRegression(C=gridcv.best_params_['C'],class_weight='balanced')\n",
        "log_reg_best.fit(X_train,y_train)"
      ],
      "metadata": {
        "colab": {
          "base_uri": "https://localhost:8080/"
        },
        "id": "BujNjYXiIMzD",
        "outputId": "693c0f68-b38d-4f5d-b29a-18e9f60923fc"
      },
      "execution_count": null,
      "outputs": [
        {
          "output_type": "execute_result",
          "data": {
            "text/plain": [
              "LogisticRegression(C=10, class_weight='balanced')"
            ]
          },
          "metadata": {},
          "execution_count": 58
        }
      ]
    },
    {
      "cell_type": "code",
      "source": [
        "#predicting labels\n",
        "predictions_train_LR = log_reg_best.predict(X_train)\n",
        "predictions_test_LR = log_reg_best.predict(X_test)\n",
        "\n",
        "#predicting probablities\n",
        "y_tr_pred_proba_LR = log_reg_best.predict_proba(X_train)\n",
        "y_test_pred_proba_LR = log_reg_best.predict_proba(X_test)"
      ],
      "metadata": {
        "id": "IrOEHrBLINjQ"
      },
      "execution_count": null,
      "outputs": []
    },
    {
      "cell_type": "code",
      "source": [
        "#extracting fpr,tpr,threshold_prob_value\n",
        "train_fpr, train_tpr, tr_thresholds = roc_curve(y_train, y_tr_pred_proba_LR[:,1])\n",
        "test_fpr, test_tpr, te_thresholds = roc_curve(y_test, y_test_pred_proba_LR[:,1])\n",
        "\n",
        "fig = plt.figure(figsize=(6,6))\n",
        "plt.plot(train_fpr, train_tpr, label=\"train AUC =\"+str(auc(train_fpr, train_tpr)))\n",
        "plt.plot(test_fpr, test_tpr, label=\"test AUC =\"+str(auc(test_fpr, test_tpr)))\n",
        "plt.plot(test_fpr, test_fpr,linestyle='--')\n",
        "plt.legend()\n",
        "plt.xlabel(\"FPR\")\n",
        "plt.ylabel(\"TPR\")\n",
        "plt.title(\"Area Under Curve Log Regression\")\n",
        "plt.grid()\n",
        "plt.show()\n",
        "\n",
        "#AUC_scores\n",
        "train_auc_LR = np.round(auc(train_fpr, train_tpr),3)\n",
        "test_auc_LR = np.round(auc(test_fpr, test_tpr),3)"
      ],
      "metadata": {
        "colab": {
          "base_uri": "https://localhost:8080/",
          "height": 404
        },
        "id": "9WuS3Nj6IY93",
        "outputId": "ae82e34e-b5c1-46eb-d74d-c6a079d421fb"
      },
      "execution_count": null,
      "outputs": [
        {
          "output_type": "display_data",
          "data": {
            "text/plain": [
              "<Figure size 432x432 with 1 Axes>"
            ],
            "image/png": "[encoded data removed]"
          },
          "metadata": {
            "needs_background": "light"
          }
        }
      ]
    },
    {
      "cell_type": "code",
      "source": [
        "#Plotting confusion matrix\n",
        "CM_plotter(predictions_train_LR,predictions_test_LR)"
      ],
      "metadata": {
        "colab": {
          "base_uri": "https://localhost:8080/",
          "height": 297
        },
        "id": "EiUgcn-bRkT4",
        "outputId": "d89c2b85-886c-41a8-afa7-5c9cf14dab09"
      },
      "execution_count": null,
      "outputs": [
        {
          "output_type": "display_data",
          "data": {
            "text/plain": [
              "<Figure size 720x288 with 4 Axes>"
            ],
            "image/png": "[encoded data removed]"
          },
          "metadata": {
            "needs_background": "light"
          }
        }
      ]
    },
    {
      "cell_type": "code",
      "source": [
        "# Evaluating model\n",
        "\n",
        "CR_LR = classification_report(y_test,predictions_test_LR)\n",
        "print('ClassiFication Report:',CR_LR)"
      ],
      "metadata": {
        "colab": {
          "base_uri": "https://localhost:8080/"
        },
        "id": "iC3CWnJfVqim",
        "outputId": "7d227eda-078f-4227-f7fe-7c828e0dd761"
      },
      "execution_count": null,
      "outputs": [
        {
          "output_type": "stream",
          "name": "stdout",
          "text": [
            "ClassiFication Report:               precision    recall  f1-score   support\n",
            "\n",
            "           0       1.00      0.95      0.97    690550\n",
            "           1       0.05      0.91      0.09      2053\n",
            "\n",
            "    accuracy                           0.95    692603\n",
            "   macro avg       0.52      0.93      0.53    692603\n",
            "weighted avg       1.00      0.95      0.97    692603\n",
            "\n"
          ]
        }
      ]
    },
    {
      "cell_type": "markdown",
      "source": [
        "## 2. RandomForest"
      ],
      "metadata": {
        "id": "ck7j2Y1MLkcb"
      }
    },
    {
      "cell_type": "code",
      "source": [
        "# Train model : 5.20 mins\n",
        "RF = RandomForestClassifier(n_estimators=50,oob_score=True,class_weight='balanced_subsample',random_state=42,bootstrap=True)\n",
        "fitted_vals = RF.fit(X_train, y_train)\n",
        " \n",
        "# Predict on testing set\n",
        "predictionsRF = RF.predict(X_test)    "
      ],
      "metadata": {
        "id": "QahgnPU-JXWe"
      },
      "execution_count": null,
      "outputs": []
    },
    {
      "cell_type": "code",
      "source": [
        "# Predict on testing set\n",
        "predictions_train_RF = RF.predict(X_train)  \n",
        "predictions_test_RF = RF.predict(X_test)  \n",
        "\n",
        "predict_proba_train_RF = RF.predict_proba(X_train)\n",
        "predict_proba_test_RF = RF.predict_proba(X_test)"
      ],
      "metadata": {
        "id": "tYovTUM6n2Ar"
      },
      "execution_count": null,
      "outputs": []
    },
    {
      "cell_type": "code",
      "source": [
        "#extracting fpr,tpr,threshold_prob_value\n",
        "train_fpr, train_tpr, tr_thresholds = roc_curve(y_train, predict_proba_train_RF[:,1])\n",
        "test_fpr, test_tpr, te_thresholds = roc_curve(y_test, predict_proba_test_RF[:,1])\n",
        "\n",
        "fig = plt.figure(figsize=(6,6))\n",
        "plt.plot(train_fpr, train_tpr, label=\"train AUC =\"+str(auc(train_fpr, train_tpr)))\n",
        "plt.plot(test_fpr, test_tpr, label=\"test AUC =\"+str(auc(test_fpr, test_tpr)))\n",
        "plt.plot(test_fpr, test_fpr,linestyle='--')\n",
        "plt.legend()\n",
        "plt.xlabel(\"FPR\")\n",
        "plt.ylabel(\"TPR\")\n",
        "plt.title(\"Area Under Curve for Random Forest\")\n",
        "plt.grid()\n",
        "plt.show()\n",
        "\n",
        "#AUC_scores\n",
        "train_auc_RF = np.round(auc(train_fpr, train_tpr),3)\n",
        "test_auc_RF = np.round(auc(test_fpr, test_tpr),3)"
      ],
      "metadata": {
        "id": "bdSqY6xKoFU8",
        "colab": {
          "base_uri": "https://localhost:8080/",
          "height": 404
        },
        "outputId": "04950bbf-9bc9-48a0-b429-cd0f11533282"
      },
      "execution_count": null,
      "outputs": [
        {
          "output_type": "display_data",
          "data": {
            "text/plain": [
              "<Figure size 432x432 with 1 Axes>"
            ],
            "image/png": "[encoded data removed]"
          },
          "metadata": {
            "needs_background": "light"
          }
        }
      ]
    },
    {
      "cell_type": "code",
      "source": [
        "#Plotting Cinfusion Matrix\n",
        "CM_plotter(predictions_train_RF,predictions_test_RF)"
      ],
      "metadata": {
        "colab": {
          "base_uri": "https://localhost:8080/",
          "height": 297
        },
        "id": "3RoC0R5jShUG",
        "outputId": "3d6e5156-640a-4b64-e759-503f0cd06725"
      },
      "execution_count": null,
      "outputs": [
        {
          "output_type": "display_data",
          "data": {
            "text/plain": [
              "<Figure size 720x288 with 4 Axes>"
            ],
            "image/png": "[encoded data removed]"
          },
          "metadata": {
            "needs_background": "light"
          }
        }
      ]
    },
    {
      "cell_type": "code",
      "source": [
        "# Evaluating model\n",
        "\n",
        "CR_RF = classification_report(y_test,predictionsRF)\n",
        "print('ClassiFication Report:',CR_RF)"
      ],
      "metadata": {
        "colab": {
          "base_uri": "https://localhost:8080/"
        },
        "id": "GdyZzgu2LZ9I",
        "outputId": "26c9318a-d96e-4ac3-ecf4-c52d3f0a579b"
      },
      "execution_count": null,
      "outputs": [
        {
          "output_type": "stream",
          "name": "stdout",
          "text": [
            "ClassiFication Report:               precision    recall  f1-score   support\n",
            "\n",
            "           0       1.00      1.00      1.00    690550\n",
            "           1       1.00      1.00      1.00      2053\n",
            "\n",
            "    accuracy                           1.00    692603\n",
            "   macro avg       1.00      1.00      1.00    692603\n",
            "weighted avg       1.00      1.00      1.00    692603\n",
            "\n"
          ]
        }
      ]
    },
    {
      "cell_type": "code",
      "source": [
        "x = np.arange(len(X.columns))\n",
        "\n",
        "# getting importances of features\n",
        "importances = RF.feature_importances_\n",
        "\n",
        "# getting the indices of the most important feature to least important\n",
        "sort_ind = np.argsort(importances)[::-1]\n",
        "plt.figure(figsize=(10,5))\n",
        "plt.bar(x, importances[sort_ind],color='g')\n",
        "plt.xticks(x,tuple(X.columns.values[sort_ind]),rotation=90)\n",
        "plt.title(\"Important Features: Greatest to Least\")\n",
        "plt.show()"
      ],
      "metadata": {
        "colab": {
          "base_uri": "https://localhost:8080/",
          "height": 413
        },
        "id": "pVdGFyF8NTl4",
        "outputId": "3f29fa0f-8ca5-44af-9663-4fc6fd6cb725"
      },
      "execution_count": null,
      "outputs": [
        {
          "output_type": "display_data",
          "data": {
            "text/plain": [
              "<Figure size 720x360 with 1 Axes>"
            ],
            "image/png": "[encoded data removed]"
          },
          "metadata": {
            "needs_background": "light"
          }
        }
      ]
    },
    {
      "cell_type": "markdown",
      "source": [
        "- observations\n",
        "  - the feature we created errorbalanceOrg is most important."
      ],
      "metadata": {
        "id": "ScXHuMLjOy1t"
      }
    },
    {
      "cell_type": "markdown",
      "source": [
        "# **4. Results**"
      ],
      "metadata": {
        "id": "VhB1eIlSQhoJ"
      }
    },
    {
      "cell_type": "code",
      "source": [
        "print('Logistic Regression')\n",
        "print('-'*50)\n",
        "\n",
        "print('Test AUC score = ',test_auc_LR)\n",
        "CM_plotter(predictions_train_LR,predictions_test_LR)\n",
        "\n",
        "print('Random Forest')\n",
        "print('-'*50)\n",
        "\n",
        "print('Test AUC score = ',test_auc_RF)\n",
        "CM_plotter(predictions_train_RF,predictions_test_RF)\n",
        "\n",
        "print('='*80)\n",
        "print('='*80)\n",
        "\n",
        "print()\n",
        "\n",
        "print('ClassiFication Report LR: ')\n",
        "print(CR_LR)\n",
        "print('-'*80)\n",
        "print('ClassiFication Report RF: ')\n",
        "print(CR_RF)"
      ],
      "metadata": {
        "colab": {
          "base_uri": "https://localhost:8080/",
          "height": 1000
        },
        "id": "Rg8zHBq7Qkv8",
        "outputId": "f31e5874-c5d5-4b97-feaa-f842e123f7bb"
      },
      "execution_count": null,
      "outputs": [
        {
          "output_type": "stream",
          "name": "stdout",
          "text": [
            "Logistic Regression\n",
            "--------------------------------------------------\n",
            "Test AUC score =  0.978\n"
          ]
        },
        {
          "output_type": "display_data",
          "data": {
            "text/plain": [
              "<Figure size 720x288 with 4 Axes>"
            ],
            "image/png": "[encoded data removed]"
          },
          "metadata": {
            "needs_background": "light"
          }
        },
        {
          "output_type": "stream",
          "name": "stdout",
          "text": [
            "Random Forest\n",
            "--------------------------------------------------\n",
            "Test AUC score =  0.999\n"
          ]
        },
        {
          "output_type": "display_data",
          "data": {
            "text/plain": [
              "<Figure size 720x288 with 4 Axes>"
            ],
            "image/png": "[encoded data removed]"
          },
          "metadata": {
            "needs_background": "light"
          }
        },
        {
          "output_type": "stream",
          "name": "stdout",
          "text": [
            "================================================================================\n",
            "================================================================================\n",
            "\n",
            "ClassiFication Report LR: \n",
            "              precision    recall  f1-score   support\n",
            "\n",
            "           0       1.00      0.95      0.97    690550\n",
            "           1       0.05      0.91      0.09      2053\n",
            "\n",
            "    accuracy                           0.95    692603\n",
            "   macro avg       0.52      0.93      0.53    692603\n",
            "weighted avg       1.00      0.95      0.97    692603\n",
            "\n",
            "--------------------------------------------------------------------------------\n",
            "ClassiFication Report RF: \n",
            "              precision    recall  f1-score   support\n",
            "\n",
            "           0       1.00      1.00      1.00    690550\n",
            "           1       1.00      1.00      1.00      2053\n",
            "\n",
            "    accuracy                           1.00    692603\n",
            "   macro avg       1.00      1.00      1.00    692603\n",
            "weighted avg       1.00      1.00      1.00    692603\n",
            "\n"
          ]
        }
      ]
    },
    {
      "cell_type": "markdown",
      "source": [
        "- Observations \n",
        "  - Random Forest is performing Excellent as compared to Logistic Regression"
      ],
      "metadata": {
        "id": "dErIh1VGUgIf"
      }
    },
    {
      "cell_type": "markdown",
      "source": [
        "# **Case Study Questions**"
      ],
      "metadata": {
        "id": "2crW1ErWldQ6"
      }
    },
    {
      "cell_type": "markdown",
      "source": [
        "**Q1. Data cleaning including missing values, outliers and multi-collinearity.**\n",
        "\n",
        "- There was no Missing values or NaN values.\n",
        "- No need of data cleaning was needed.\n",
        "The number of fraud transactions is very small as compared to the total number of transactions. The fraud transaction can be considered outliers.\n",
        "\n",
        "- I worked on outlier detection techniques as below.\n",
        "\n",
        "  - I implemented the Isolation Forest technique for outlier detection. Thi technique is based on the decision tree and works on isolating the outliers.\n",
        "  - I also implemented a local outlier factor algorithm for outlier detection. \n",
        "  - The density of points in a region is a good differentiator between genuine and fraudulent transactions. \n",
        "  - For a fraudulent transaction, the number of data points in the neighborhood is very small. For a genuine transaction, the number of data points in the neighborhood is large.\n",
        "  - To understand the density, I implemented the DBSCAN technique.\n",
        "- The results of the oulier detection techniques were not satisfactory. They could not identify the fraudulent transactions correctly."
      ],
      "metadata": {
        "id": "dUJYcNFNlsYn"
      }
    },
    {
      "cell_type": "markdown",
      "source": [
        "**Q2. Describe your fraud detection model in elaboration.**\n",
        "\n",
        "- As Fraud detection is a Binary type of classification task. The dataset provided is Labeled data. So we need ML models which support Supervised and binary types of data.\n",
        "- After doing EDA of the dataset I found that data is heavily imblanced so I need performance evaluation metrics as :\n",
        "\t  a. Confusion Matrix: To check TP,FP,FN,TN\n",
        "\t  b. Precision : Out of all datapoints predicted as Fraud,how many of them was actually fraud. We want our model which will not miss any fraud transaction.\n",
        "\t  c. Recall: Out of all Fraud transactions how much of them were predicted fraud. Because we want which will not classify fraud transaction as Valid transaction. \n",
        "\t  d. ROC_AUC: Tells us discriminative power of model between fraud and valid transactions.\n",
        "\n",
        "- So Model selection criteria becomes:\n",
        "\t  a. Model which does binary classification\n",
        "\t  b. Model which gives Probablity values along with class labels\n",
        "- Due to this reason I selected Logistic Regression and Random Forest model. \n",
        "\t  a. Logistic Regression: Supports Binary classification by default and returns probablity values.\n",
        "\t  b. Random Forest: This is ensemble type of model. The performance of these model is Superior  because of combination of multiple base models. Also this model Supports Binary classification and returns probablity values.\n",
        "\n",
        "\n",
        "\n",
        "\n",
        "\n"
      ],
      "metadata": {
        "id": "FbWh90R_mKYF"
      }
    },
    {
      "cell_type": "markdown",
      "source": [
        "**Q3.How did you select variables to be included in the model?**\n",
        "\n",
        "- The selection of variables was done after performing extensive EDA.\n",
        "For example, droppping of 'isFlaggedFraud' variable was decided because it was violating the given criteria as per dataset descrition and number of datapoints was only 16.\n",
        "\n",
        "- For the 'type' of transactions I included only CASH_OUT & TRANSFER transactions. Because fraud was only in those transaction.\n",
        "\n",
        "- nameOrig and nameDest was dropped because of for fraud transactions, the account that received funds during a transfer was not used at all for cashing out.\n",
        "\n",
        "- See EDA part for more details."
      ],
      "metadata": {
        "id": "7OGWppL9qpDD"
      }
    },
    {
      "cell_type": "markdown",
      "source": [
        "**Q4. Demonstrate the performance of the model by using best set of tools.**\n",
        "\n",
        "- As the data was heavily imbalanced, so selecting accuracy as performance metric is not a good idea.Because even dumbe model will give good accuracy.\n",
        "\n",
        "- So I selected following performance evaluation metrics to evaluate performance of model :\n",
        "\t  a. Confusion Matrix: To check TP,FP,FN,TN\n",
        "\t  b. Precision : Out of all datapoints predicted as Fraud,how many of them was actually fraud. We want our model which will not miss any fraud transaction.\n",
        "\t  c. Recall: Out of all Fraud transactions how much of them were predicted fraud. Because we want model which will not classify fraud transaction as Valid transaction. \n",
        "\t  d. ROC_AUC: Tells us discriminative power of model between fraud and valid transactions."
      ],
      "metadata": {
        "id": "KuesOJ6prqqj"
      }
    },
    {
      "cell_type": "markdown",
      "source": [
        "**Q5.  What are the key factors that predict fraudulent customer?**\n",
        "\n",
        "- CASH_OUT and TRANSFER type of transactions are responsible.\n",
        "- ErrorbalanceOrig and ErrobalanceDest  feature.\n",
        "- Hours_of_day feature.\n",
        "- The account that received funds during a transfer was not used at all for cashing out."
      ],
      "metadata": {
        "id": "fOobGHZUsPP1"
      }
    },
    {
      "cell_type": "markdown",
      "source": [
        "**Q6.Do these factors make sense? If yes, How? If not, How not?**\n",
        "\n",
        "-  Yes, these factors make sense.\n",
        "Based on domain knowledge and my own study of fraud detection, I believe we can detect fraudulent transactions with high accuracy by deploying my model.\n",
        "- As per EDA, I separated the fraud and valid transactions. And found that fraud transaction happens only when the transaction type is CASH_OUT and TRANSFER.\n",
        "- ErrorbalanceOrig and ErrobalanceDest feature:  As per EDA, Most of the errorbalanceOrg of fraud transactions are -ve and up to 75% of transactions are having error value less than 0. Hence this can be a significant point to categories of valid and fraud transactions.While in case of valid transactions have large errorbalanceorig.\n",
        "- Hours_of_day feature : Valid transactions occur only within specific hours of day.But Fraud transactions occur at any time of the day. This Hours_of_data can be an important reason to differentiate between fraud and valid transactions. \n",
        "\n",
        " "
      ],
      "metadata": {
        "id": "ATiQS_e4tDRl"
      }
    },
    {
      "cell_type": "markdown",
      "source": [
        "**Q7. What kind of prevention should be adopted while company update its infrastructure?**\n",
        "- Improve the data collection of 'isFalggedFraud' feature, it's not working as per the criteria provided in the dataset.\n",
        "- There is a lot of error in tallying the balance of (oldbalanceOrig,newbalanceOrig) and (oldbalanceDest,newbalanceDest)performing after transactions.\n",
        "-  while updating the company infrastructure, we should collect more features for the transactions. Some examples of additional features that should be collected are as follow.\n",
        "\n",
        "  - Location of transaction: city, state, the country from IP address - if a user's primary address is Mumbai and if the same users make a large transaction in a North-East Indian state, such transaction is suspicious.\n",
        "  - Device type of transaction: Android, iOS, Desktop, etc. \n",
        "  - Check whether the transaction was done from a user-authorized device or not.\n",
        "  - For each user, the average amount of transactions (if a user usually makes transactions of small amounts, and suddenly if a new transaction is of a large amount, it could be fraudulent.)\n",
        "  - For each merchant, the average amount of transaction (if a merchant usually receives transactions of small amounts, and suddenly if a new transaction is of a large amount, it could be fraudulent.)\n",
        "  - IP Address \n",
        "  - User's last known location\n",
        "  \n",
        "- Amount of each Fraud transaction is higher compared to a valid transaction. So tracking transactions contain a higher amount with more attention.\n"
      ],
      "metadata": {
        "id": "_IofuoTYvPQg"
      }
    },
    {
      "cell_type": "markdown",
      "source": [
        "**Q8.Assuming these actions have been implemented, how would you determine if they work?**\n",
        "\n",
        "- We will deploy the fraud detection model. After the deployment, we will continuously monitor the performance of the fraud detection model. \n",
        "- We will also periodically re-train the model by adding recent transaction data sets.\n",
        "- We will also analyze data drift - the change in the type of data as compared to the original trained data. We will analyze the changes in the distribution of the data and make improvements to model parameters accordingly."
      ],
      "metadata": {
        "id": "3IDUbLhSvWO4"
      }
    }
  ]
}
